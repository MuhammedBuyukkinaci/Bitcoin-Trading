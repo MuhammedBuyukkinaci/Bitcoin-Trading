{
 "cells": [
  {
   "cell_type": "code",
   "execution_count": 1,
   "id": "c35fb873",
   "metadata": {},
   "outputs": [
    {
     "name": "stderr",
     "output_type": "stream",
     "text": [
      "2022-03-05 22:09:55.503395: I tensorflow/stream_executor/platform/default/dso_loader.cc:49] Successfully opened dynamic library libcudart.so.11.0\n"
     ]
    }
   ],
   "source": [
    "import pandas as pd\n",
    "import numpy as np\n",
    "import matplotlib.pyplot as plt\n",
    "import os\n",
    "import sys\n",
    "import gc\n",
    "from tqdm import tqdm\n",
    "import time\n",
    "from datetime import datetime\n",
    "import datetime as dt\n",
    "from sklearn.metrics import confusion_matrix,f1_score,precision_score,recall_score,roc_auc_score,roc_curve\n",
    "from tensorflow.keras.callbacks import Callback\n",
    "import random\n",
    "import seaborn as sns\n",
    "from sklearn.utils import shuffle\n",
    "from tensorflow.keras.callbacks import ReduceLROnPlateau\n",
    "from sklearn.preprocessing import StandardScaler\n",
    "from tensorflow.keras.layers import Dense, LSTM, Dropout,GRU,LeakyReLU, BatchNormalization\n",
    "from tensorflow.keras.models import Model,Sequential\n",
    "from tensorflow.keras.optimizers import Adam, RMSprop\n",
    "import tensorflow as tf\n"
   ]
  },
  {
   "cell_type": "code",
   "execution_count": 2,
   "id": "1f8d4993",
   "metadata": {},
   "outputs": [],
   "source": [
    "pd.set_option('display.max_rows', 500)\n",
    "pd.set_option('display.max_columns', 500)\n",
    "tqdm.pandas()"
   ]
  },
  {
   "cell_type": "code",
   "execution_count": 3,
   "id": "324925e9",
   "metadata": {},
   "outputs": [],
   "source": [
    "def seed_everything(seed=51):\n",
    "    random.seed(seed)\n",
    "    os.environ['PYTHONHASHSEED'] = str(seed)\n",
    "    np.random.seed(seed)\n",
    "    tf.random.set_seed(seed)"
   ]
  },
  {
   "cell_type": "code",
   "execution_count": 4,
   "id": "fb8281b8",
   "metadata": {},
   "outputs": [],
   "source": [
    "os.environ[\"TF_FORCE_GPU_ALLOW_GROWTH\"]=\"true\""
   ]
  },
  {
   "cell_type": "code",
   "execution_count": 5,
   "id": "c4839f92",
   "metadata": {},
   "outputs": [],
   "source": [
    "seed_everything(seed=51)"
   ]
  },
  {
   "cell_type": "code",
   "execution_count": 6,
   "id": "1aca99c2",
   "metadata": {},
   "outputs": [],
   "source": [
    "def timer_decorator(function_to_call):\n",
    "    def wrapper(*args,**kwargs):\n",
    "        time_before = datetime.now()\n",
    "        value_to_return =  function_to_call(*args,**kwargs)\n",
    "        time_after = datetime.now()\n",
    "        print(f\"data elapsed = {time_after - time_before}\")\n",
    "        return value_to_return\n",
    "    return wrapper"
   ]
  },
  {
   "cell_type": "code",
   "execution_count": 7,
   "id": "af666d25",
   "metadata": {},
   "outputs": [],
   "source": [
    "@timer_decorator\n",
    "def read_data(path):\n",
    "    df = pd.read_csv(path)\n",
    "    print(\"========\")\n",
    "    print(f\"Shape of data = {df.shape}\")\n",
    "    print(\"========\")\n",
    "    print(\"Column types are:\")\n",
    "    print(df.dtypes)\n",
    "    print(\"========\")\n",
    "    print(\"Take a glance at data\")\n",
    "    print(pd.concat([df.head(),df.tail()],axis=0))\n",
    "    print(\"========\")\n",
    "    return df"
   ]
  },
  {
   "cell_type": "code",
   "execution_count": 8,
   "id": "0153f35f",
   "metadata": {},
   "outputs": [
    {
     "name": "stdout",
     "output_type": "stream",
     "text": [
      "========\n",
      "Shape of data = (350688, 2)\n",
      "========\n",
      "Column types are:\n",
      "time     object\n",
      "open    float64\n",
      "dtype: object\n",
      "========\n",
      "Take a glance at data\n",
      "                       time      open\n",
      "0       2012-01-01 00:00:00      4.58\n",
      "1       2012-01-01 00:15:00      4.58\n",
      "2       2012-01-01 00:30:00      4.58\n",
      "3       2012-01-01 00:45:00      4.58\n",
      "4       2012-01-01 01:00:00      4.58\n",
      "350683  2021-12-31 22:45:00  46290.58\n",
      "350684  2021-12-31 23:00:00  46303.98\n",
      "350685  2021-12-31 23:15:00  46429.65\n",
      "350686  2021-12-31 23:30:00  46350.44\n",
      "350687  2021-12-31 23:45:00  46465.54\n",
      "========\n",
      "data elapsed = 0:00:00.194084\n"
     ]
    }
   ],
   "source": [
    "data = read_data('15mindata.csv')"
   ]
  },
  {
   "cell_type": "code",
   "execution_count": 9,
   "id": "a50d4be6",
   "metadata": {},
   "outputs": [],
   "source": [
    "def copy_data(df):\n",
    "    return df.copy()"
   ]
  },
  {
   "cell_type": "code",
   "execution_count": 10,
   "id": "dabebd7f",
   "metadata": {},
   "outputs": [],
   "source": [
    "@timer_decorator\n",
    "def create_date_columns(df):\n",
    "    df['time'] = pd.to_datetime(df['time'])\n",
    "    df['year'] = df['time'].dt.year\n",
    "    df['month'] = df['time'].dt.month\n",
    "    df['day'] = df['time'].dt.day\n",
    "    df['hour'] = df['time'].dt.hour\n",
    "    df['minute'] = df['time'].dt.minute\n",
    "    return df"
   ]
  },
  {
   "cell_type": "code",
   "execution_count": 11,
   "id": "d1bc2fdc",
   "metadata": {},
   "outputs": [],
   "source": [
    "#data = create_date_columns(data)"
   ]
  },
  {
   "cell_type": "code",
   "execution_count": 12,
   "id": "09b6c6f5",
   "metadata": {},
   "outputs": [],
   "source": [
    "@timer_decorator\n",
    "def filter_data(df,drop_years, hour_to_keep, minute_to_keep):\n",
    "    filter_ = (~df['year'].isin(drop_years)) & (df['hour'] % hour_to_keep == 0) & (df['minute'] == 0)\n",
    "    return df[filter_]"
   ]
  },
  {
   "cell_type": "code",
   "execution_count": 13,
   "id": "f9098c9d",
   "metadata": {},
   "outputs": [],
   "source": [
    "#data = filter_data(data,[2012],4,0)"
   ]
  },
  {
   "cell_type": "code",
   "execution_count": 14,
   "id": "a14ffffa",
   "metadata": {},
   "outputs": [
    {
     "data": {
      "text/html": [
       "<div>\n",
       "<style scoped>\n",
       "    .dataframe tbody tr th:only-of-type {\n",
       "        vertical-align: middle;\n",
       "    }\n",
       "\n",
       "    .dataframe tbody tr th {\n",
       "        vertical-align: top;\n",
       "    }\n",
       "\n",
       "    .dataframe thead th {\n",
       "        text-align: right;\n",
       "    }\n",
       "</style>\n",
       "<table border=\"1\" class=\"dataframe\">\n",
       "  <thead>\n",
       "    <tr style=\"text-align: right;\">\n",
       "      <th></th>\n",
       "      <th>time</th>\n",
       "      <th>open</th>\n",
       "    </tr>\n",
       "  </thead>\n",
       "  <tbody>\n",
       "    <tr>\n",
       "      <th>0</th>\n",
       "      <td>2012-01-01 00:00:00</td>\n",
       "      <td>4.58</td>\n",
       "    </tr>\n",
       "    <tr>\n",
       "      <th>1</th>\n",
       "      <td>2012-01-01 00:15:00</td>\n",
       "      <td>4.58</td>\n",
       "    </tr>\n",
       "    <tr>\n",
       "      <th>2</th>\n",
       "      <td>2012-01-01 00:30:00</td>\n",
       "      <td>4.58</td>\n",
       "    </tr>\n",
       "    <tr>\n",
       "      <th>3</th>\n",
       "      <td>2012-01-01 00:45:00</td>\n",
       "      <td>4.58</td>\n",
       "    </tr>\n",
       "    <tr>\n",
       "      <th>4</th>\n",
       "      <td>2012-01-01 01:00:00</td>\n",
       "      <td>4.58</td>\n",
       "    </tr>\n",
       "  </tbody>\n",
       "</table>\n",
       "</div>"
      ],
      "text/plain": [
       "                  time  open\n",
       "0  2012-01-01 00:00:00  4.58\n",
       "1  2012-01-01 00:15:00  4.58\n",
       "2  2012-01-01 00:30:00  4.58\n",
       "3  2012-01-01 00:45:00  4.58\n",
       "4  2012-01-01 01:00:00  4.58"
      ]
     },
     "execution_count": 14,
     "metadata": {},
     "output_type": "execute_result"
    }
   ],
   "source": [
    "data.head()"
   ]
  },
  {
   "cell_type": "markdown",
   "id": "6c9ab577",
   "metadata": {},
   "source": [
    "# Set Parameters"
   ]
  },
  {
   "cell_type": "code",
   "execution_count": 15,
   "id": "f4ffacdd",
   "metadata": {},
   "outputs": [],
   "source": [
    "time_step = 120\n",
    "next_period = 1\n",
    "n_features = 1"
   ]
  },
  {
   "cell_type": "code",
   "execution_count": 16,
   "id": "a4768661",
   "metadata": {},
   "outputs": [],
   "source": [
    "@timer_decorator\n",
    "def create_train_data(df,time_step,next_period):\n",
    "    arr = np.array(df['open'])\n",
    "    input_data = []\n",
    "    target_data = []\n",
    "    for i in tqdm(range(len(arr) - time_step)):\n",
    "        input_data.append(arr[i:i+time_step])\n",
    "        target_data.append(arr[i+time_step])\n",
    "    input_data = np.asarray(input_data)\n",
    "    target_data = np.asarray(target_data)\n",
    "    mydata = pd.DataFrame(input_data,columns = ['T{}'.format(i) for i in range(1,time_step + 1,1)])\n",
    "    mydata['target'] = target_data\n",
    "    \n",
    "    print(f\"Training data size =  {mydata.shape}\")\n",
    "    \n",
    "    return mydata"
   ]
  },
  {
   "cell_type": "code",
   "execution_count": 17,
   "id": "89c958ec",
   "metadata": {},
   "outputs": [],
   "source": [
    "#data = create_train_data(data,time_step,next_period)"
   ]
  },
  {
   "cell_type": "code",
   "execution_count": 18,
   "id": "51a4be28",
   "metadata": {},
   "outputs": [
    {
     "data": {
      "text/plain": [
       "(350688, 2)"
      ]
     },
     "execution_count": 18,
     "metadata": {},
     "output_type": "execute_result"
    }
   ],
   "source": [
    "data.shape"
   ]
  },
  {
   "cell_type": "code",
   "execution_count": 19,
   "id": "8db202dd",
   "metadata": {},
   "outputs": [],
   "source": [
    "def label_maker(x):\n",
    "    if x <= -1.5:\n",
    "        return 0\n",
    "    elif (-1.5 < x) & (x <= 1.5):\n",
    "        return 1\n",
    "    elif 1.5 < x :\n",
    "        return 2\n",
    "    else:\n",
    "        pass"
   ]
  },
  {
   "cell_type": "code",
   "execution_count": 20,
   "id": "fde5fb0b",
   "metadata": {},
   "outputs": [],
   "source": [
    "@timer_decorator\n",
    "def create_label(df):\n",
    "    df['scaled_target'] = (df.iloc[:,-1] - df.iloc[:,-2]) / df.iloc[:,-2]\n",
    "    df['percentile_target'] = df['scaled_target']*100\n",
    "    df['categorical_target_change'] = (df['percentile_target'].abs() > 1.25) *1\n",
    "    return df"
   ]
  },
  {
   "cell_type": "code",
   "execution_count": 21,
   "id": "2ed722f1",
   "metadata": {},
   "outputs": [],
   "source": [
    "#data = create_label(data)"
   ]
  },
  {
   "cell_type": "code",
   "execution_count": 22,
   "id": "9e900f74",
   "metadata": {},
   "outputs": [
    {
     "data": {
      "text/html": [
       "<div>\n",
       "<style scoped>\n",
       "    .dataframe tbody tr th:only-of-type {\n",
       "        vertical-align: middle;\n",
       "    }\n",
       "\n",
       "    .dataframe tbody tr th {\n",
       "        vertical-align: top;\n",
       "    }\n",
       "\n",
       "    .dataframe thead th {\n",
       "        text-align: right;\n",
       "    }\n",
       "</style>\n",
       "<table border=\"1\" class=\"dataframe\">\n",
       "  <thead>\n",
       "    <tr style=\"text-align: right;\">\n",
       "      <th></th>\n",
       "      <th>time</th>\n",
       "      <th>open</th>\n",
       "    </tr>\n",
       "  </thead>\n",
       "  <tbody>\n",
       "    <tr>\n",
       "      <th>350683</th>\n",
       "      <td>2021-12-31 22:45:00</td>\n",
       "      <td>46290.58</td>\n",
       "    </tr>\n",
       "    <tr>\n",
       "      <th>350684</th>\n",
       "      <td>2021-12-31 23:00:00</td>\n",
       "      <td>46303.98</td>\n",
       "    </tr>\n",
       "    <tr>\n",
       "      <th>350685</th>\n",
       "      <td>2021-12-31 23:15:00</td>\n",
       "      <td>46429.65</td>\n",
       "    </tr>\n",
       "    <tr>\n",
       "      <th>350686</th>\n",
       "      <td>2021-12-31 23:30:00</td>\n",
       "      <td>46350.44</td>\n",
       "    </tr>\n",
       "    <tr>\n",
       "      <th>350687</th>\n",
       "      <td>2021-12-31 23:45:00</td>\n",
       "      <td>46465.54</td>\n",
       "    </tr>\n",
       "  </tbody>\n",
       "</table>\n",
       "</div>"
      ],
      "text/plain": [
       "                       time      open\n",
       "350683  2021-12-31 22:45:00  46290.58\n",
       "350684  2021-12-31 23:00:00  46303.98\n",
       "350685  2021-12-31 23:15:00  46429.65\n",
       "350686  2021-12-31 23:30:00  46350.44\n",
       "350687  2021-12-31 23:45:00  46465.54"
      ]
     },
     "execution_count": 22,
     "metadata": {},
     "output_type": "execute_result"
    }
   ],
   "source": [
    "data.tail()"
   ]
  },
  {
   "cell_type": "code",
   "execution_count": 23,
   "id": "587b0a0c",
   "metadata": {},
   "outputs": [],
   "source": [
    "@timer_decorator\n",
    "def create_columnwise_features(df,time_step):\n",
    "    df['columnwise_min'] = df.iloc[:,:time_step].min(axis=1)\n",
    "    df['columnwise_max'] = df.iloc[:,:time_step].max(axis=1)\n",
    "    df['columnwise_median'] = df.iloc[:,:time_step].median(axis=1)\n",
    "    return df"
   ]
  },
  {
   "cell_type": "code",
   "execution_count": 24,
   "id": "2c38702b",
   "metadata": {},
   "outputs": [],
   "source": [
    "#data = create_columnwise_features(data,time_step)"
   ]
  },
  {
   "cell_type": "code",
   "execution_count": 25,
   "id": "ac3b0270",
   "metadata": {},
   "outputs": [],
   "source": [
    "#mydata = mydata[mydata['categorical_target_change'].isin([0,2])]"
   ]
  },
  {
   "cell_type": "code",
   "execution_count": 26,
   "id": "45ae10ad",
   "metadata": {},
   "outputs": [],
   "source": [
    "def scale_btw_neg1_and_pos1(df,time_step):\n",
    "    df[[f'T{x}' for x in range (1,time_step+1,1) ]] = \\\n",
    "    np.array([ np.interp( x, ( np.array(x).min(),np.array(x).max() ), (-1,1) )\\\n",
    "              for x in df[[f'T{x}' for x in range (1,time_step+1,1) ]].values.tolist() ])\n",
    "    return df"
   ]
  },
  {
   "cell_type": "code",
   "execution_count": 27,
   "id": "c6141491",
   "metadata": {},
   "outputs": [],
   "source": [
    "def scale_btw_0_and_1(df,time_step):\n",
    "    for i in range(1,time_step+1,1):\n",
    "        df['T{}'.format(i)] = (df['T{}'.format(i)] - df['columnwise_min']) / (df['columnwise_max'] - df['columnwise_min'])\n",
    "    return df"
   ]
  },
  {
   "cell_type": "code",
   "execution_count": 28,
   "id": "5ad3bec2",
   "metadata": {},
   "outputs": [],
   "source": [
    "#data = scale_btw_0_and_1(data,time_step)"
   ]
  },
  {
   "cell_type": "code",
   "execution_count": 29,
   "id": "cf38d46a",
   "metadata": {},
   "outputs": [
    {
     "data": {
      "text/html": [
       "<div>\n",
       "<style scoped>\n",
       "    .dataframe tbody tr th:only-of-type {\n",
       "        vertical-align: middle;\n",
       "    }\n",
       "\n",
       "    .dataframe tbody tr th {\n",
       "        vertical-align: top;\n",
       "    }\n",
       "\n",
       "    .dataframe thead th {\n",
       "        text-align: right;\n",
       "    }\n",
       "</style>\n",
       "<table border=\"1\" class=\"dataframe\">\n",
       "  <thead>\n",
       "    <tr style=\"text-align: right;\">\n",
       "      <th></th>\n",
       "      <th>time</th>\n",
       "      <th>open</th>\n",
       "    </tr>\n",
       "  </thead>\n",
       "  <tbody>\n",
       "    <tr>\n",
       "      <th>0</th>\n",
       "      <td>2012-01-01 00:00:00</td>\n",
       "      <td>4.58</td>\n",
       "    </tr>\n",
       "    <tr>\n",
       "      <th>1</th>\n",
       "      <td>2012-01-01 00:15:00</td>\n",
       "      <td>4.58</td>\n",
       "    </tr>\n",
       "    <tr>\n",
       "      <th>2</th>\n",
       "      <td>2012-01-01 00:30:00</td>\n",
       "      <td>4.58</td>\n",
       "    </tr>\n",
       "    <tr>\n",
       "      <th>3</th>\n",
       "      <td>2012-01-01 00:45:00</td>\n",
       "      <td>4.58</td>\n",
       "    </tr>\n",
       "    <tr>\n",
       "      <th>4</th>\n",
       "      <td>2012-01-01 01:00:00</td>\n",
       "      <td>4.58</td>\n",
       "    </tr>\n",
       "  </tbody>\n",
       "</table>\n",
       "</div>"
      ],
      "text/plain": [
       "                  time  open\n",
       "0  2012-01-01 00:00:00  4.58\n",
       "1  2012-01-01 00:15:00  4.58\n",
       "2  2012-01-01 00:30:00  4.58\n",
       "3  2012-01-01 00:45:00  4.58\n",
       "4  2012-01-01 01:00:00  4.58"
      ]
     },
     "execution_count": 29,
     "metadata": {},
     "output_type": "execute_result"
    }
   ],
   "source": [
    "data.head()"
   ]
  },
  {
   "cell_type": "code",
   "execution_count": 30,
   "id": "5002e5f3",
   "metadata": {},
   "outputs": [
    {
     "name": "stdout",
     "output_type": "stream",
     "text": [
      "data elapsed = 0:00:00.186687\n",
      "data elapsed = 0:00:00.011834\n"
     ]
    },
    {
     "name": "stderr",
     "output_type": "stream",
     "text": [
      "100%|█████████████████████████████████| 19602/19602 [00:00<00:00, 703723.73it/s]"
     ]
    },
    {
     "name": "stdout",
     "output_type": "stream",
     "text": [
      "Training data size =  (19602, 121)\n",
      "data elapsed = 0:00:00.044727\n",
      "data elapsed = 0:00:00.002139\n",
      "data elapsed = 0:00:00.124025\n"
     ]
    },
    {
     "name": "stderr",
     "output_type": "stream",
     "text": [
      "\n"
     ]
    }
   ],
   "source": [
    "data = (data.pipe(copy_data)\n",
    "     .pipe(create_date_columns)\n",
    "     .pipe(filter_data,drop_years = [2012],hour_to_keep = 4,minute_to_keep = 0)\n",
    "     .pipe(create_train_data,time_step,next_period)\n",
    "     .pipe(create_label)\n",
    "     .pipe(create_columnwise_features,time_step)\n",
    "     .pipe(scale_btw_0_and_1,time_step)\n",
    ")"
   ]
  },
  {
   "cell_type": "markdown",
   "id": "ddd126ad",
   "metadata": {},
   "source": [
    "# Create Train, Test, Valid"
   ]
  },
  {
   "cell_type": "code",
   "execution_count": 32,
   "id": "ddf5bfba",
   "metadata": {},
   "outputs": [
    {
     "data": {
      "text/plain": [
       "0    0.735741\n",
       "1    0.264259\n",
       "Name: categorical_target_change, dtype: float64"
      ]
     },
     "execution_count": 32,
     "metadata": {},
     "output_type": "execute_result"
    }
   ],
   "source": [
    "data['categorical_target_change'].value_counts(normalize=True)"
   ]
  },
  {
   "cell_type": "code",
   "execution_count": 33,
   "id": "864d6d39",
   "metadata": {},
   "outputs": [],
   "source": [
    "def create_train_valid_test(df,time_step,train_ratio=0.7,valid_ratio=0.15):\n",
    "    train_border = train_ratio\n",
    "    valid_border = train_border + valid_ratio\n",
    "    \n",
    "    X_train = df[['T{}'.format(t) for t in range(1,time_step +1,1) ]][:int(len(df)*train_border)].values\n",
    "    X_val = df[['T{}'.format(t) for t in range(1,time_step + 1,1) ]][int(len(df)*train_border):int(len(df)*valid_border)].values\n",
    "    X_test = df[['T{}'.format(t) for t in range(1,time_step + 1,1) ]][int(len(df)*valid_border):].values\n",
    "    \n",
    "    y_train = df['categorical_target_change'][:int(len(df)*train_border)]\n",
    "    y_val = df['categorical_target_change'][int(len(df)*train_border):int(len(df)*valid_border)]\n",
    "    y_test = df['categorical_target_change'][int(len(df)*valid_border):]\n",
    "    \n",
    "    print(f\"Train size = {len(X_train)}; Valid size = {len(X_val)}; Test size = {len(X_test)}\")\n",
    "    \n",
    "    return X_train, X_val, X_test, y_train, y_val, y_test\n",
    "    "
   ]
  },
  {
   "cell_type": "code",
   "execution_count": 34,
   "id": "61b2a39c",
   "metadata": {},
   "outputs": [
    {
     "name": "stdout",
     "output_type": "stream",
     "text": [
      "Train size = 13721; Valid size = 2940; Test size = 2941\n"
     ]
    }
   ],
   "source": [
    "X_train, X_val , X_test, y_train, y_val, y_test = create_train_valid_test(data, time_step)"
   ]
  },
  {
   "cell_type": "markdown",
   "id": "aefce5aa",
   "metadata": {},
   "source": [
    "# Create weights of classes inproportional to percentages"
   ]
  },
  {
   "cell_type": "code",
   "execution_count": 35,
   "id": "783157de",
   "metadata": {},
   "outputs": [],
   "source": [
    "def create_weights(series):\n",
    "    print(\"Class Distributions are \")\n",
    "    print(series.value_counts(normalize=True))\n",
    "    weight_dict= {x[0]: 1/x[1]  for x in series.value_counts(normalize=True).to_dict().items()}\n",
    "    return weight_dict"
   ]
  },
  {
   "cell_type": "code",
   "execution_count": 36,
   "id": "7e79b1dc",
   "metadata": {},
   "outputs": [
    {
     "name": "stdout",
     "output_type": "stream",
     "text": [
      "Class Distributions are \n",
      "0    0.737993\n",
      "1    0.262007\n",
      "Name: categorical_target_change, dtype: float64\n"
     ]
    }
   ],
   "source": [
    "weight_dict = create_weights(y_train)"
   ]
  },
  {
   "cell_type": "markdown",
   "id": "eebf8cb5",
   "metadata": {},
   "source": [
    "# Oversampling data"
   ]
  },
  {
   "cell_type": "code",
   "execution_count": 37,
   "id": "1678e086",
   "metadata": {},
   "outputs": [],
   "source": [
    "from imblearn.over_sampling import SMOTE\n",
    "def oversample_train(X,y):\n",
    "    X,y = shuffle(X,y,random_state=60)\n",
    "    smote = SMOTE(random_state=51)\n",
    "    X,y = smote.fit_resample(X,y)\n",
    "    print(X.shape,y.shape)\n",
    "    return X,y"
   ]
  },
  {
   "cell_type": "code",
   "execution_count": 38,
   "id": "36ba8cf2",
   "metadata": {},
   "outputs": [],
   "source": [
    "#X_train, y_train = oversample_train(X_train, y_train)"
   ]
  },
  {
   "cell_type": "markdown",
   "id": "968d9acb",
   "metadata": {},
   "source": [
    "# Dummifacation of Target"
   ]
  },
  {
   "cell_type": "code",
   "execution_count": 39,
   "id": "d40e4f06",
   "metadata": {},
   "outputs": [],
   "source": [
    "def dummify_y_columns(training_y,valid_y,test_y):\n",
    "    training_y = pd.get_dummies(training_y)\n",
    "    valid_y = pd.get_dummies(valid_y)\n",
    "    test_y = pd.get_dummies(test_y)\n",
    "    print(f\"Shapes after dummification in train, valid, test order = [{training_y.shape,valid_y.shape, test_y.shape}]\")\n",
    "    return training_y, valid_y, test_y"
   ]
  },
  {
   "cell_type": "code",
   "execution_count": 40,
   "id": "825cf57c",
   "metadata": {},
   "outputs": [],
   "source": [
    "# y_train, y_val, y_test = dummify_y_columns(y_train, y_val, y_test)"
   ]
  },
  {
   "cell_type": "markdown",
   "id": "3d85a509",
   "metadata": {},
   "source": [
    "# Resape Input for LSTM's"
   ]
  },
  {
   "cell_type": "code",
   "execution_count": 41,
   "id": "01c71064",
   "metadata": {},
   "outputs": [],
   "source": [
    "def reshape_input(training_X, valid_X, test_X, n_features):\n",
    "    training_X = training_X.reshape((training_X.shape[0], training_X.shape[1], n_features))\n",
    "    valid_X = valid_X.reshape((valid_X.shape[0], valid_X.shape[1], n_features))\n",
    "    test_X = test_X.reshape((test_X.shape[0], test_X.shape[1], n_features))\n",
    "    print(f\"Shapes after reshaping are in order [{training_X.shape},{valid_X.shape}, {test_X.shape}]\")\n",
    "    return training_X, valid_X, test_X"
   ]
  },
  {
   "cell_type": "code",
   "execution_count": 42,
   "id": "091528a7",
   "metadata": {},
   "outputs": [
    {
     "name": "stdout",
     "output_type": "stream",
     "text": [
      "Shapes after reshaping are in order [(13721, 120, 1),(2940, 120, 1), (2941, 120, 1)]\n"
     ]
    }
   ],
   "source": [
    "X_train, X_val, X_test = reshape_input(X_train, X_val, X_test, n_features)"
   ]
  },
  {
   "cell_type": "markdown",
   "id": "43c25dc5",
   "metadata": {},
   "source": [
    "# Shuffle Data"
   ]
  },
  {
   "cell_type": "code",
   "execution_count": 43,
   "id": "81efb57b",
   "metadata": {},
   "outputs": [
    {
     "data": {
      "image/png": "[encoded data removed]",
      "text/plain": [
       "<Figure size 432x288 with 1 Axes>"
      ]
     },
     "metadata": {
      "needs_background": "light"
     },
     "output_type": "display_data"
    }
   ],
   "source": [
    "plt.plot(X_train[0])\n",
    "plt.show()"
   ]
  },
  {
   "cell_type": "code",
   "execution_count": 44,
   "id": "4e6f0ff9",
   "metadata": {},
   "outputs": [],
   "source": [
    "X_train, y_train = shuffle(X_train,y_train,random_state=60)"
   ]
  },
  {
   "cell_type": "code",
   "execution_count": 45,
   "id": "585f1055",
   "metadata": {},
   "outputs": [
    {
     "data": {
      "image/png": "[encoded data removed]",
      "text/plain": [
       "<Figure size 432x288 with 1 Axes>"
      ]
     },
     "metadata": {
      "needs_background": "light"
     },
     "output_type": "display_data"
    }
   ],
   "source": [
    "plt.plot(X_train[0])\n",
    "plt.show()"
   ]
  },
  {
   "cell_type": "code",
   "execution_count": 46,
   "id": "6be6edb6",
   "metadata": {},
   "outputs": [
    {
     "data": {
      "text/plain": [
       "(13721, 120, 1)"
      ]
     },
     "execution_count": 46,
     "metadata": {},
     "output_type": "execute_result"
    }
   ],
   "source": [
    "X_train.shape"
   ]
  },
  {
   "cell_type": "markdown",
   "id": "c7e22434",
   "metadata": {},
   "source": [
    "# Fill Input with noise"
   ]
  },
  {
   "cell_type": "code",
   "execution_count": 47,
   "id": "8f41cd02",
   "metadata": {},
   "outputs": [],
   "source": [
    "def fill_input_with_noise(training_X):\n",
    "    training_X = np.random.rand(training_X.shape[0],training_X.shape[1],training_X.shape[2])\n",
    "    return training_X"
   ]
  },
  {
   "cell_type": "code",
   "execution_count": 48,
   "id": "f3ca1085",
   "metadata": {},
   "outputs": [],
   "source": [
    "#X_train = fill_input_with_noise(X_train)"
   ]
  },
  {
   "cell_type": "markdown",
   "id": "6e06213c",
   "metadata": {},
   "source": [
    "# Defining Model"
   ]
  },
  {
   "cell_type": "code",
   "execution_count": 49,
   "id": "5718033d",
   "metadata": {},
   "outputs": [],
   "source": [
    "reduce_lr = ReduceLROnPlateau( monitor='val_loss', factor=0.05, patience=5 )"
   ]
  },
  {
   "cell_type": "code",
   "execution_count": 50,
   "id": "f4a9b6d1",
   "metadata": {},
   "outputs": [],
   "source": [
    "def create_LSTM_model(time_step, n_features):\n",
    "    tf.keras.backend.clear_session()\n",
    "    model = Sequential()\n",
    "    model.add(GRU(256, activation='tanh', input_shape=(time_step, n_features)))\n",
    "    model.add(Dropout(0.2))\n",
    "    model.add(Dense(128))\n",
    "    model.add(LeakyReLU(alpha=0.2))\n",
    "    model.add(Dropout(0.2))\n",
    "    model.add(Dense(1,activation='sigmoid'))\n",
    "    model.compile(loss=tf.keras.losses.BinaryCrossentropy(), optimizer=Adam(learning_rate=3e-4), metrics=[tf.keras.metrics.AUC(),'accuracy'])\n",
    "    return model"
   ]
  },
  {
   "cell_type": "code",
   "execution_count": 51,
   "id": "0ae7cb41",
   "metadata": {},
   "outputs": [
    {
     "name": "stderr",
     "output_type": "stream",
     "text": [
      "2022-03-05 22:10:32.158970: I tensorflow/compiler/jit/xla_cpu_device.cc:41] Not creating XLA devices, tf_xla_enable_xla_devices not set\n",
      "2022-03-05 22:10:32.161219: I tensorflow/stream_executor/platform/default/dso_loader.cc:49] Successfully opened dynamic library libcuda.so.1\n",
      "2022-03-05 22:10:32.190000: I tensorflow/stream_executor/cuda/cuda_gpu_executor.cc:941] successful NUMA node read from SysFS had negative value (-1), but there must be at least one NUMA node, so returning NUMA node zero\n",
      "2022-03-05 22:10:32.190127: I tensorflow/core/common_runtime/gpu/gpu_device.cc:1720] Found device 0 with properties: \n",
      "pciBusID: 0000:01:00.0 name: NVIDIA GeForce GTX 1050 computeCapability: 6.1\n",
      "coreClock: 1.493GHz coreCount: 5 deviceMemorySize: 3.95GiB deviceMemoryBandwidth: 104.43GiB/s\n",
      "2022-03-05 22:10:32.190150: I tensorflow/stream_executor/platform/default/dso_loader.cc:49] Successfully opened dynamic library libcudart.so.11.0\n",
      "2022-03-05 22:10:32.192331: I tensorflow/stream_executor/platform/default/dso_loader.cc:49] Successfully opened dynamic library libcublas.so.11\n",
      "2022-03-05 22:10:32.192430: I tensorflow/stream_executor/platform/default/dso_loader.cc:49] Successfully opened dynamic library libcublasLt.so.11\n",
      "2022-03-05 22:10:32.193352: I tensorflow/stream_executor/platform/default/dso_loader.cc:49] Successfully opened dynamic library libcufft.so.10\n",
      "2022-03-05 22:10:32.193610: I tensorflow/stream_executor/platform/default/dso_loader.cc:49] Successfully opened dynamic library libcurand.so.10\n",
      "2022-03-05 22:10:32.195860: I tensorflow/stream_executor/platform/default/dso_loader.cc:49] Successfully opened dynamic library libcusolver.so.10\n",
      "2022-03-05 22:10:32.196473: I tensorflow/stream_executor/platform/default/dso_loader.cc:49] Successfully opened dynamic library libcusparse.so.11\n",
      "2022-03-05 22:10:32.196630: I tensorflow/stream_executor/platform/default/dso_loader.cc:49] Successfully opened dynamic library libcudnn.so.8\n",
      "2022-03-05 22:10:32.196739: I tensorflow/stream_executor/cuda/cuda_gpu_executor.cc:941] successful NUMA node read from SysFS had negative value (-1), but there must be at least one NUMA node, so returning NUMA node zero\n",
      "2022-03-05 22:10:32.196906: I tensorflow/stream_executor/cuda/cuda_gpu_executor.cc:941] successful NUMA node read from SysFS had negative value (-1), but there must be at least one NUMA node, so returning NUMA node zero\n",
      "2022-03-05 22:10:32.196990: I tensorflow/core/common_runtime/gpu/gpu_device.cc:1862] Adding visible gpu devices: 0\n",
      "2022-03-05 22:10:32.198142: I tensorflow/compiler/jit/xla_gpu_device.cc:99] Not creating XLA devices, tf_xla_enable_xla_devices not set\n",
      "2022-03-05 22:10:32.198299: I tensorflow/stream_executor/cuda/cuda_gpu_executor.cc:941] successful NUMA node read from SysFS had negative value (-1), but there must be at least one NUMA node, so returning NUMA node zero\n",
      "2022-03-05 22:10:32.198408: I tensorflow/core/common_runtime/gpu/gpu_device.cc:1720] Found device 0 with properties: \n",
      "pciBusID: 0000:01:00.0 name: NVIDIA GeForce GTX 1050 computeCapability: 6.1\n",
      "coreClock: 1.493GHz coreCount: 5 deviceMemorySize: 3.95GiB deviceMemoryBandwidth: 104.43GiB/s\n",
      "2022-03-05 22:10:32.198446: I tensorflow/stream_executor/platform/default/dso_loader.cc:49] Successfully opened dynamic library libcudart.so.11.0\n",
      "2022-03-05 22:10:32.198469: I tensorflow/stream_executor/platform/default/dso_loader.cc:49] Successfully opened dynamic library libcublas.so.11\n",
      "2022-03-05 22:10:32.198485: I tensorflow/stream_executor/platform/default/dso_loader.cc:49] Successfully opened dynamic library libcublasLt.so.11\n",
      "2022-03-05 22:10:32.198501: I tensorflow/stream_executor/platform/default/dso_loader.cc:49] Successfully opened dynamic library libcufft.so.10\n",
      "2022-03-05 22:10:32.198517: I tensorflow/stream_executor/platform/default/dso_loader.cc:49] Successfully opened dynamic library libcurand.so.10\n",
      "2022-03-05 22:10:32.198533: I tensorflow/stream_executor/platform/default/dso_loader.cc:49] Successfully opened dynamic library libcusolver.so.10\n",
      "2022-03-05 22:10:32.198548: I tensorflow/stream_executor/platform/default/dso_loader.cc:49] Successfully opened dynamic library libcusparse.so.11\n",
      "2022-03-05 22:10:32.198565: I tensorflow/stream_executor/platform/default/dso_loader.cc:49] Successfully opened dynamic library libcudnn.so.8\n",
      "2022-03-05 22:10:32.198631: I tensorflow/stream_executor/cuda/cuda_gpu_executor.cc:941] successful NUMA node read from SysFS had negative value (-1), but there must be at least one NUMA node, so returning NUMA node zero\n",
      "2022-03-05 22:10:32.198756: I tensorflow/stream_executor/cuda/cuda_gpu_executor.cc:941] successful NUMA node read from SysFS had negative value (-1), but there must be at least one NUMA node, so returning NUMA node zero\n",
      "2022-03-05 22:10:32.198833: I tensorflow/core/common_runtime/gpu/gpu_device.cc:1862] Adding visible gpu devices: 0\n",
      "2022-03-05 22:10:32.198865: I tensorflow/stream_executor/platform/default/dso_loader.cc:49] Successfully opened dynamic library libcudart.so.11.0\n",
      "2022-03-05 22:10:32.581447: I tensorflow/core/common_runtime/gpu/gpu_device.cc:1261] Device interconnect StreamExecutor with strength 1 edge matrix:\n",
      "2022-03-05 22:10:32.581471: I tensorflow/core/common_runtime/gpu/gpu_device.cc:1267]      0 \n",
      "2022-03-05 22:10:32.581477: I tensorflow/core/common_runtime/gpu/gpu_device.cc:1280] 0:   N \n",
      "2022-03-05 22:10:32.581662: I tensorflow/stream_executor/cuda/cuda_gpu_executor.cc:941] successful NUMA node read from SysFS had negative value (-1), but there must be at least one NUMA node, so returning NUMA node zero\n",
      "2022-03-05 22:10:32.581817: I tensorflow/stream_executor/cuda/cuda_gpu_executor.cc:941] successful NUMA node read from SysFS had negative value (-1), but there must be at least one NUMA node, so returning NUMA node zero\n",
      "2022-03-05 22:10:32.581936: I tensorflow/stream_executor/cuda/cuda_gpu_executor.cc:941] successful NUMA node read from SysFS had negative value (-1), but there must be at least one NUMA node, so returning NUMA node zero\n",
      "2022-03-05 22:10:32.582012: W tensorflow/core/common_runtime/gpu/gpu_bfc_allocator.cc:39] Overriding allow_growth setting because the TF_FORCE_GPU_ALLOW_GROWTH environment variable is set. Original config value was 0.\n",
      "2022-03-05 22:10:32.582033: I tensorflow/core/common_runtime/gpu/gpu_device.cc:1406] Created TensorFlow device (/job:localhost/replica:0/task:0/device:GPU:0 with 2525 MB memory) -> physical GPU (device: 0, name: NVIDIA GeForce GTX 1050, pci bus id: 0000:01:00.0, compute capability: 6.1)\n"
     ]
    }
   ],
   "source": [
    "model = create_LSTM_model(time_step, n_features)"
   ]
  },
  {
   "cell_type": "code",
   "execution_count": 52,
   "id": "e39e99ee",
   "metadata": {},
   "outputs": [],
   "source": [
    "def create_MLP_model(X_train):\n",
    "    tf.keras.backend.clear_session()\n",
    "    model = Sequential()\n",
    "    model.add(Dense(1024,activation='relu',input_shape = (X_train.shape[1],)))\n",
    "    model.add(Dense(1024,activation='relu'))\n",
    "    model.add(Dense(1024,activation='relu'))\n",
    "    model.add(Dense(3,activation='softmax'))\n",
    "    model.compile(loss='binary_crossentropy', optimizer=Adam(learning_rate=0.0003), metrics=['accuracy',tf.keras.metrics.AUC()])\n",
    "    return model"
   ]
  },
  {
   "cell_type": "code",
   "execution_count": 53,
   "id": "41decfad",
   "metadata": {},
   "outputs": [],
   "source": [
    "# model = create_MLP_model()"
   ]
  },
  {
   "cell_type": "code",
   "execution_count": 54,
   "id": "46b5dc51",
   "metadata": {},
   "outputs": [
    {
     "name": "stdout",
     "output_type": "stream",
     "text": [
      "Model: \"sequential\"\n",
      "_________________________________________________________________\n",
      "Layer (type)                 Output Shape              Param #   \n",
      "=================================================================\n",
      "gru (GRU)                    (None, 256)               198912    \n",
      "_________________________________________________________________\n",
      "dropout (Dropout)            (None, 256)               0         \n",
      "_________________________________________________________________\n",
      "dense (Dense)                (None, 128)               32896     \n",
      "_________________________________________________________________\n",
      "leaky_re_lu (LeakyReLU)      (None, 128)               0         \n",
      "_________________________________________________________________\n",
      "dropout_1 (Dropout)          (None, 128)               0         \n",
      "_________________________________________________________________\n",
      "dense_1 (Dense)              (None, 1)                 129       \n",
      "=================================================================\n",
      "Total params: 231,937\n",
      "Trainable params: 231,937\n",
      "Non-trainable params: 0\n",
      "_________________________________________________________________\n"
     ]
    }
   ],
   "source": [
    "model.summary()"
   ]
  },
  {
   "cell_type": "code",
   "execution_count": 55,
   "id": "3e13c4c9",
   "metadata": {},
   "outputs": [
    {
     "name": "stderr",
     "output_type": "stream",
     "text": [
      "2022-03-05 22:10:33.140665: I tensorflow/compiler/mlir/mlir_graph_optimization_pass.cc:116] None of the MLIR optimization passes are enabled (registered 2)\n",
      "2022-03-05 22:10:33.141194: I tensorflow/core/platform/profile_utils/cpu_utils.cc:112] CPU Frequency: 2799925000 Hz\n"
     ]
    },
    {
     "name": "stdout",
     "output_type": "stream",
     "text": [
      "Epoch 1/50\n"
     ]
    },
    {
     "name": "stderr",
     "output_type": "stream",
     "text": [
      "2022-03-05 22:10:34.347889: I tensorflow/stream_executor/platform/default/dso_loader.cc:49] Successfully opened dynamic library libcublas.so.11\n",
      "2022-03-05 22:10:34.522321: I tensorflow/stream_executor/platform/default/dso_loader.cc:49] Successfully opened dynamic library libcublasLt.so.11\n",
      "2022-03-05 22:10:34.542856: I tensorflow/stream_executor/platform/default/dso_loader.cc:49] Successfully opened dynamic library libcudnn.so.8\n"
     ]
    },
    {
     "name": "stdout",
     "output_type": "stream",
     "text": [
      "  20/1716 [..............................] - ETA: 14s - loss: 0.6531 - auc: 0.5457 - accuracy: 0.7137"
     ]
    },
    {
     "name": "stderr",
     "output_type": "stream",
     "text": [
      "Could not load symbol cublasGetSmCountTarget from libcublas.so.11. Error: /usr/local/cuda-11.0/lib64/libcublas.so.11: undefined symbol: cublasGetSmCountTarget\n"
     ]
    },
    {
     "name": "stdout",
     "output_type": "stream",
     "text": [
      "1716/1716 [==============================] - 17s 9ms/step - loss: 0.5843 - auc: 0.5159 - accuracy: 0.7373 - val_loss: 0.5265 - val_auc: 0.5194 - val_accuracy: 0.7857\n",
      "Epoch 2/50\n",
      "1716/1716 [==============================] - 15s 9ms/step - loss: 0.5724 - auc: 0.5081 - accuracy: 0.7425 - val_loss: 0.5224 - val_auc: 0.5160 - val_accuracy: 0.7857\n",
      "Epoch 3/50\n",
      "1716/1716 [==============================] - 15s 9ms/step - loss: 0.5788 - auc: 0.5214 - accuracy: 0.7353 - val_loss: 0.5273 - val_auc: 0.5327 - val_accuracy: 0.7857\n",
      "Epoch 4/50\n",
      "1716/1716 [==============================] - 15s 9ms/step - loss: 0.5729 - auc: 0.5218 - accuracy: 0.7404 - val_loss: 0.5359 - val_auc: 0.5370 - val_accuracy: 0.7857\n",
      "Epoch 5/50\n",
      "1716/1716 [==============================] - 15s 9ms/step - loss: 0.5725 - auc: 0.5394 - accuracy: 0.7389 - val_loss: 0.5197 - val_auc: 0.5458 - val_accuracy: 0.7857\n",
      "Epoch 6/50\n",
      "1716/1716 [==============================] - 15s 9ms/step - loss: 0.5779 - auc: 0.5510 - accuracy: 0.7312 - val_loss: 0.5171 - val_auc: 0.5638 - val_accuracy: 0.7857\n",
      "Epoch 7/50\n",
      "1716/1716 [==============================] - 15s 9ms/step - loss: 0.5676 - auc: 0.5690 - accuracy: 0.7380 - val_loss: 0.5167 - val_auc: 0.5713 - val_accuracy: 0.7844\n",
      "Epoch 8/50\n",
      "1716/1716 [==============================] - 15s 9ms/step - loss: 0.5698 - auc: 0.5868 - accuracy: 0.7327 - val_loss: 0.5189 - val_auc: 0.5778 - val_accuracy: 0.7803\n",
      "Epoch 9/50\n",
      "1716/1716 [==============================] - 15s 9ms/step - loss: 0.5696 - auc: 0.5995 - accuracy: 0.7284 - val_loss: 0.5275 - val_auc: 0.5774 - val_accuracy: 0.7741\n",
      "Epoch 10/50\n",
      "1716/1716 [==============================] - 15s 9ms/step - loss: 0.5554 - auc: 0.6272 - accuracy: 0.7383 - val_loss: 0.5140 - val_auc: 0.5881 - val_accuracy: 0.7830\n",
      "Epoch 11/50\n",
      "1716/1716 [==============================] - 15s 9ms/step - loss: 0.5524 - auc: 0.6289 - accuracy: 0.7429 - val_loss: 0.5181 - val_auc: 0.5804 - val_accuracy: 0.7799\n",
      "Epoch 12/50\n",
      "1716/1716 [==============================] - 15s 9ms/step - loss: 0.5617 - auc: 0.6318 - accuracy: 0.7320 - val_loss: 0.5212 - val_auc: 0.5842 - val_accuracy: 0.7786\n",
      "Epoch 13/50\n",
      "1716/1716 [==============================] - 15s 9ms/step - loss: 0.5485 - auc: 0.6466 - accuracy: 0.7417 - val_loss: 0.5187 - val_auc: 0.6021 - val_accuracy: 0.7721\n",
      "Epoch 14/50\n",
      "1716/1716 [==============================] - 16s 9ms/step - loss: 0.5462 - auc: 0.6618 - accuracy: 0.7395 - val_loss: 0.5070 - val_auc: 0.6179 - val_accuracy: 0.7850\n",
      "Epoch 15/50\n",
      "1716/1716 [==============================] - 16s 9ms/step - loss: 0.5366 - auc: 0.6865 - accuracy: 0.7444 - val_loss: 0.5186 - val_auc: 0.6158 - val_accuracy: 0.7813\n",
      "Epoch 16/50\n",
      "1716/1716 [==============================] - 16s 9ms/step - loss: 0.5355 - auc: 0.6810 - accuracy: 0.7444 - val_loss: 0.5202 - val_auc: 0.6288 - val_accuracy: 0.7827\n",
      "Epoch 17/50\n",
      "1716/1716 [==============================] - 16s 9ms/step - loss: 0.5084 - auc: 0.7158 - accuracy: 0.7651 - val_loss: 0.5260 - val_auc: 0.6338 - val_accuracy: 0.7690\n",
      "Epoch 18/50\n",
      "1716/1716 [==============================] - 16s 9ms/step - loss: 0.5222 - auc: 0.7228 - accuracy: 0.7478 - val_loss: 0.5208 - val_auc: 0.6181 - val_accuracy: 0.7721\n",
      "Epoch 19/50\n",
      "1716/1716 [==============================] - 16s 9ms/step - loss: 0.5003 - auc: 0.7334 - accuracy: 0.7686 - val_loss: 0.5177 - val_auc: 0.6256 - val_accuracy: 0.7786\n",
      "Epoch 20/50\n",
      "1716/1716 [==============================] - 16s 9ms/step - loss: 0.4927 - auc: 0.7531 - accuracy: 0.7662 - val_loss: 0.5228 - val_auc: 0.6303 - val_accuracy: 0.7701\n",
      "Epoch 21/50\n",
      "1716/1716 [==============================] - 16s 9ms/step - loss: 0.4899 - auc: 0.7535 - accuracy: 0.7701 - val_loss: 0.5283 - val_auc: 0.6306 - val_accuracy: 0.7687\n",
      "Epoch 22/50\n",
      "1716/1716 [==============================] - 16s 9ms/step - loss: 0.4871 - auc: 0.7662 - accuracy: 0.7683 - val_loss: 0.5260 - val_auc: 0.6293 - val_accuracy: 0.7701\n",
      "Epoch 23/50\n",
      "1716/1716 [==============================] - 16s 9ms/step - loss: 0.4920 - auc: 0.7614 - accuracy: 0.7683 - val_loss: 0.5274 - val_auc: 0.6309 - val_accuracy: 0.7697\n",
      "Epoch 24/50\n",
      "1716/1716 [==============================] - 16s 9ms/step - loss: 0.4827 - auc: 0.7633 - accuracy: 0.7748 - val_loss: 0.5274 - val_auc: 0.6334 - val_accuracy: 0.7687\n",
      "Epoch 25/50\n",
      "1716/1716 [==============================] - 16s 9ms/step - loss: 0.4871 - auc: 0.7662 - accuracy: 0.7676 - val_loss: 0.5280 - val_auc: 0.6330 - val_accuracy: 0.7673\n",
      "Epoch 26/50\n",
      "1716/1716 [==============================] - 16s 9ms/step - loss: 0.4873 - auc: 0.7629 - accuracy: 0.7753 - val_loss: 0.5286 - val_auc: 0.6326 - val_accuracy: 0.7684\n",
      "Epoch 27/50\n",
      "1716/1716 [==============================] - 16s 9ms/step - loss: 0.4809 - auc: 0.7721 - accuracy: 0.7781 - val_loss: 0.5291 - val_auc: 0.6323 - val_accuracy: 0.7684\n",
      "Epoch 28/50\n",
      "1716/1716 [==============================] - 16s 9ms/step - loss: 0.4812 - auc: 0.7677 - accuracy: 0.7780 - val_loss: 0.5293 - val_auc: 0.6327 - val_accuracy: 0.7680\n",
      "Epoch 29/50\n",
      "1716/1716 [==============================] - 16s 9ms/step - loss: 0.4741 - auc: 0.7810 - accuracy: 0.7810 - val_loss: 0.5295 - val_auc: 0.6325 - val_accuracy: 0.7677\n",
      "Epoch 30/50\n",
      "1716/1716 [==============================] - 16s 10ms/step - loss: 0.4780 - auc: 0.7692 - accuracy: 0.7764 - val_loss: 0.5295 - val_auc: 0.6325 - val_accuracy: 0.7677\n",
      "Epoch 31/50\n",
      "1716/1716 [==============================] - 16s 9ms/step - loss: 0.4763 - auc: 0.7726 - accuracy: 0.7747 - val_loss: 0.5295 - val_auc: 0.6323 - val_accuracy: 0.7680\n",
      "Epoch 32/50\n",
      "1716/1716 [==============================] - 16s 10ms/step - loss: 0.4892 - auc: 0.7629 - accuracy: 0.7707 - val_loss: 0.5295 - val_auc: 0.6324 - val_accuracy: 0.7684\n",
      "Epoch 33/50\n",
      "1716/1716 [==============================] - 16s 9ms/step - loss: 0.4828 - auc: 0.7690 - accuracy: 0.7737 - val_loss: 0.5295 - val_auc: 0.6324 - val_accuracy: 0.7684\n",
      "Epoch 34/50\n",
      "1716/1716 [==============================] - 16s 9ms/step - loss: 0.4855 - auc: 0.7678 - accuracy: 0.7716 - val_loss: 0.5296 - val_auc: 0.6324 - val_accuracy: 0.7684\n",
      "Epoch 35/50\n",
      "1716/1716 [==============================] - 16s 9ms/step - loss: 0.4760 - auc: 0.7758 - accuracy: 0.7771 - val_loss: 0.5296 - val_auc: 0.6324 - val_accuracy: 0.7684\n",
      "Epoch 36/50\n",
      "1716/1716 [==============================] - 16s 9ms/step - loss: 0.4814 - auc: 0.7686 - accuracy: 0.7769 - val_loss: 0.5296 - val_auc: 0.6324 - val_accuracy: 0.7684\n",
      "Epoch 37/50\n",
      "1716/1716 [==============================] - 16s 10ms/step - loss: 0.4834 - auc: 0.7646 - accuracy: 0.7759 - val_loss: 0.5296 - val_auc: 0.6324 - val_accuracy: 0.7684\n",
      "Epoch 38/50\n",
      "1716/1716 [==============================] - 16s 9ms/step - loss: 0.4748 - auc: 0.7761 - accuracy: 0.7780 - val_loss: 0.5296 - val_auc: 0.6324 - val_accuracy: 0.7684\n",
      "Epoch 39/50\n",
      "1716/1716 [==============================] - 16s 9ms/step - loss: 0.4838 - auc: 0.7725 - accuracy: 0.7736 - val_loss: 0.5296 - val_auc: 0.6324 - val_accuracy: 0.7684\n",
      "Epoch 40/50\n",
      "1716/1716 [==============================] - 16s 10ms/step - loss: 0.4871 - auc: 0.7666 - accuracy: 0.7700 - val_loss: 0.5296 - val_auc: 0.6324 - val_accuracy: 0.7684\n",
      "Epoch 41/50\n",
      "1716/1716 [==============================] - 16s 10ms/step - loss: 0.4710 - auc: 0.7799 - accuracy: 0.7818 - val_loss: 0.5296 - val_auc: 0.6324 - val_accuracy: 0.7684\n",
      "Epoch 42/50\n",
      "1716/1716 [==============================] - 16s 9ms/step - loss: 0.4776 - auc: 0.7709 - accuracy: 0.7766 - val_loss: 0.5296 - val_auc: 0.6324 - val_accuracy: 0.7684\n",
      "Epoch 43/50\n",
      "1716/1716 [==============================] - 16s 10ms/step - loss: 0.4809 - auc: 0.7711 - accuracy: 0.7754 - val_loss: 0.5296 - val_auc: 0.6324 - val_accuracy: 0.7684\n",
      "Epoch 44/50\n",
      "1716/1716 [==============================] - 16s 10ms/step - loss: 0.4883 - auc: 0.7641 - accuracy: 0.7730 - val_loss: 0.5296 - val_auc: 0.6324 - val_accuracy: 0.7684\n",
      "Epoch 45/50\n",
      "1716/1716 [==============================] - 16s 9ms/step - loss: 0.4812 - auc: 0.7699 - accuracy: 0.7748 - val_loss: 0.5296 - val_auc: 0.6324 - val_accuracy: 0.7684\n",
      "Epoch 46/50\n",
      "1716/1716 [==============================] - 16s 9ms/step - loss: 0.4805 - auc: 0.7663 - accuracy: 0.7800 - val_loss: 0.5296 - val_auc: 0.6324 - val_accuracy: 0.7684\n",
      "Epoch 47/50\n",
      "1716/1716 [==============================] - 16s 9ms/step - loss: 0.4811 - auc: 0.7722 - accuracy: 0.7790 - val_loss: 0.5296 - val_auc: 0.6324 - val_accuracy: 0.7684\n",
      "Epoch 48/50\n",
      "1716/1716 [==============================] - 16s 9ms/step - loss: 0.4731 - auc: 0.7752 - accuracy: 0.7815 - val_loss: 0.5296 - val_auc: 0.6324 - val_accuracy: 0.7684\n",
      "Epoch 49/50\n",
      "1716/1716 [==============================] - 16s 10ms/step - loss: 0.4772 - auc: 0.7708 - accuracy: 0.7815 - val_loss: 0.5296 - val_auc: 0.6324 - val_accuracy: 0.7684\n",
      "Epoch 50/50\n",
      "1716/1716 [==============================] - 16s 9ms/step - loss: 0.4784 - auc: 0.7734 - accuracy: 0.7714 - val_loss: 0.5296 - val_auc: 0.6324 - val_accuracy: 0.7684\n"
     ]
    },
    {
     "data": {
      "text/plain": [
       "<tensorflow.python.keras.callbacks.History at 0x7fd2f0156510>"
      ]
     },
     "execution_count": 55,
     "metadata": {},
     "output_type": "execute_result"
    }
   ],
   "source": [
    "model.fit(X_train, y_train, epochs =50 , validation_data = (X_val,y_val) ,batch_size = 8, callbacks=[reduce_lr])"
   ]
  },
  {
   "cell_type": "markdown",
   "id": "03a4c45f",
   "metadata": {},
   "source": [
    "# Train"
   ]
  },
  {
   "cell_type": "code",
   "execution_count": 56,
   "id": "da0dcb5f",
   "metadata": {},
   "outputs": [
    {
     "name": "stderr",
     "output_type": "stream",
     "text": [
      "/home/muhammed/Documents/Trading-Bot/TRADING_ENV/lib/python3.7/site-packages/tensorflow/python/keras/engine/sequential.py:425: UserWarning: `model.predict_proba()` is deprecated and will be removed after 2021-01-01. Please use `model.predict()` instead.\n",
      "  warnings.warn('`model.predict_proba()` is deprecated and '\n"
     ]
    }
   ],
   "source": [
    "y_train_predicted = model.predict_proba(X_train)"
   ]
  },
  {
   "cell_type": "code",
   "execution_count": 57,
   "id": "a7b49b06",
   "metadata": {},
   "outputs": [],
   "source": [
    "def plot_prediction_and_auc(predictions,true_values):\n",
    "    plt.hist(predictions,bins=50, label = \"Class 0\")\n",
    "    plt.legend()\n",
    "    plt.show()\n",
    "    \n",
    "    print(\"AUC = {}\".format(roc_auc_score(true_values,predictions)))\n",
    "    \n",
    "    fpr, tpr, _ = roc_curve(true_values,  predictions)\n",
    "    auc = roc_auc_score(true_values, predictions)\n",
    "    plt.plot(fpr,tpr,label=\"train, auc=\"+str(auc))\n",
    "    plt.plot([0,1],[0,1])\n",
    "    plt.legend(loc=4)\n",
    "    plt.show()"
   ]
  },
  {
   "cell_type": "code",
   "execution_count": 58,
   "id": "7af05ab8",
   "metadata": {},
   "outputs": [
    {
     "data": {
      "image/png": "[encoded data removed]",
      "text/plain": [
       "<Figure size 432x288 with 1 Axes>"
      ]
     },
     "metadata": {
      "needs_background": "light"
     },
     "output_type": "display_data"
    },
    {
     "name": "stdout",
     "output_type": "stream",
     "text": [
      "AUC = 0.7716496483666031\n"
     ]
    },
    {
     "data": {
      "image/png": "[encoded data removed]",
      "text/plain": [
       "<Figure size 432x288 with 1 Axes>"
      ]
     },
     "metadata": {
      "needs_background": "light"
     },
     "output_type": "display_data"
    }
   ],
   "source": [
    "plot_prediction_and_auc(y_train_predicted[:,0],y_train)"
   ]
  },
  {
   "cell_type": "markdown",
   "id": "76db4c77",
   "metadata": {},
   "source": [
    "# Val"
   ]
  },
  {
   "cell_type": "code",
   "execution_count": 59,
   "id": "566497a2",
   "metadata": {},
   "outputs": [
    {
     "name": "stderr",
     "output_type": "stream",
     "text": [
      "/home/muhammed/Documents/Trading-Bot/TRADING_ENV/lib/python3.7/site-packages/tensorflow/python/keras/engine/sequential.py:425: UserWarning: `model.predict_proba()` is deprecated and will be removed after 2021-01-01. Please use `model.predict()` instead.\n",
      "  warnings.warn('`model.predict_proba()` is deprecated and '\n"
     ]
    }
   ],
   "source": [
    "y_val_predicted = model.predict_proba(X_val)"
   ]
  },
  {
   "cell_type": "code",
   "execution_count": 60,
   "id": "56991826",
   "metadata": {},
   "outputs": [
    {
     "data": {
      "image/png": "[encoded data removed]",
      "text/plain": [
       "<Figure size 432x288 with 1 Axes>"
      ]
     },
     "metadata": {
      "needs_background": "light"
     },
     "output_type": "display_data"
    },
    {
     "name": "stdout",
     "output_type": "stream",
     "text": [
      "AUC = 0.6322112279255137\n"
     ]
    },
    {
     "data": {
      "image/png": "[encoded data removed]",
      "text/plain": [
       "<Figure size 432x288 with 1 Axes>"
      ]
     },
     "metadata": {
      "needs_background": "light"
     },
     "output_type": "display_data"
    }
   ],
   "source": [
    "plot_prediction_and_auc(y_val_predicted[:,0],y_val)"
   ]
  },
  {
   "cell_type": "markdown",
   "id": "b514b2be",
   "metadata": {},
   "source": [
    "# Test"
   ]
  },
  {
   "cell_type": "code",
   "execution_count": 61,
   "id": "2a6ddcac",
   "metadata": {},
   "outputs": [
    {
     "name": "stderr",
     "output_type": "stream",
     "text": [
      "/home/muhammed/Documents/Trading-Bot/TRADING_ENV/lib/python3.7/site-packages/tensorflow/python/keras/engine/sequential.py:425: UserWarning: `model.predict_proba()` is deprecated and will be removed after 2021-01-01. Please use `model.predict()` instead.\n",
      "  warnings.warn('`model.predict_proba()` is deprecated and '\n"
     ]
    }
   ],
   "source": [
    "y_test_predicted = model.predict_proba(X_test)"
   ]
  },
  {
   "cell_type": "code",
   "execution_count": 62,
   "id": "3f1ad204",
   "metadata": {},
   "outputs": [
    {
     "data": {
      "image/png": "[encoded data removed]",
      "text/plain": [
       "<Figure size 432x288 with 1 Axes>"
      ]
     },
     "metadata": {
      "needs_background": "light"
     },
     "output_type": "display_data"
    },
    {
     "name": "stdout",
     "output_type": "stream",
     "text": [
      "AUC = 0.590622314315391\n"
     ]
    },
    {
     "data": {
      "image/png": "[encoded data removed]",
      "text/plain": [
       "<Figure size 432x288 with 1 Axes>"
      ]
     },
     "metadata": {
      "needs_background": "light"
     },
     "output_type": "display_data"
    }
   ],
   "source": [
    "plot_prediction_and_auc(y_test_predicted[:,0],y_test)"
   ]
  },
  {
   "cell_type": "code",
   "execution_count": null,
   "id": "b8f19787",
   "metadata": {},
   "outputs": [],
   "source": []
  }
 ],
 "metadata": {
  "kernelspec": {
   "display_name": "Python 3 (ipykernel)",
   "language": "python",
   "name": "python3"
  },
  "language_info": {
   "codemirror_mode": {
    "name": "ipython",
    "version": 3
   },
   "file_extension": ".py",
   "mimetype": "text/x-python",
   "name": "python",
   "nbconvert_exporter": "python",
   "pygments_lexer": "ipython3",
   "version": "3.7.4"
  }
 },
 "nbformat": 4,
 "nbformat_minor": 5
}
