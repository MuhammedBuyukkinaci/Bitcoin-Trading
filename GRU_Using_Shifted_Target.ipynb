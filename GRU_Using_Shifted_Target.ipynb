{
 "cells": [
  {
   "cell_type": "code",
   "execution_count": 1,
   "id": "4a3171e7",
   "metadata": {},
   "outputs": [],
   "source": [
    "import pandas as pd\n",
    "import numpy as np\n",
    "import matplotlib.pyplot as plt\n",
    "import os\n",
    "import sys\n",
    "import gc\n",
    "from tqdm import tqdm\n",
    "import time\n",
    "from datetime import datetime\n",
    "import datetime as dt\n",
    "from sklearn.metrics import confusion_matrix,f1_score,precision_score,recall_score,roc_auc_score,roc_curve\n",
    "import random\n",
    "import seaborn as sns\n",
    "from sklearn.utils import shuffle\n",
    "from sklearn.metrics import precision_score, recall_score,f1_score\n",
    "from tensorflow.keras.callbacks import ReduceLROnPlateau\n",
    "from sklearn.preprocessing import StandardScaler\n",
    "from tensorflow.keras.layers import Dense, LSTM, Dropout,GRU,LeakyReLU, BatchNormalization\n",
    "from tensorflow.keras.models import Model,Sequential\n",
    "from tensorflow.keras.optimizers import Adam, RMSprop\n",
    "import tensorflow as tf"
   ]
  },
  {
   "cell_type": "code",
   "execution_count": 2,
   "id": "0f9f033e",
   "metadata": {},
   "outputs": [],
   "source": [
    "change_ratio = 1.5"
   ]
  },
  {
   "cell_type": "code",
   "execution_count": 3,
   "id": "8005dbfe",
   "metadata": {},
   "outputs": [],
   "source": [
    "TRAIN_OR_INFERENCE = 'INFERENCE'"
   ]
  },
  {
   "cell_type": "code",
   "execution_count": 4,
   "id": "9fc02f52",
   "metadata": {},
   "outputs": [],
   "source": [
    "pd.set_option('display.max_rows', 500)\n",
    "pd.set_option('display.max_columns', 500)\n",
    "tqdm.pandas()"
   ]
  },
  {
   "cell_type": "code",
   "execution_count": 5,
   "id": "e33f1ace",
   "metadata": {},
   "outputs": [],
   "source": [
    "def seed_everything(seed=51):\n",
    "    random.seed(seed)\n",
    "    os.environ['PYTHONHASHSEED'] = str(seed)\n",
    "    np.random.seed(seed)\n",
    "    tf.random.set_seed(seed)"
   ]
  },
  {
   "cell_type": "code",
   "execution_count": 6,
   "id": "9e41bb84",
   "metadata": {},
   "outputs": [],
   "source": [
    "os.environ[\"TF_FORCE_GPU_ALLOW_GROWTH\"]=\"true\""
   ]
  },
  {
   "cell_type": "code",
   "execution_count": 7,
   "id": "6b04da14",
   "metadata": {},
   "outputs": [],
   "source": [
    "seed_everything(seed=51)"
   ]
  },
  {
   "cell_type": "code",
   "execution_count": 8,
   "id": "cb2d64bb",
   "metadata": {},
   "outputs": [],
   "source": [
    "def timer_decorator(function_to_call):\n",
    "    def wrapper(*args,**kwargs):\n",
    "        time_before = datetime.now()\n",
    "        value_to_return =  function_to_call(*args,**kwargs)\n",
    "        time_after = datetime.now()\n",
    "        print(f\"data elapsed = {time_after - time_before}\")\n",
    "        return value_to_return\n",
    "    return wrapper"
   ]
  },
  {
   "cell_type": "code",
   "execution_count": 9,
   "id": "697c1d41",
   "metadata": {},
   "outputs": [],
   "source": [
    "@timer_decorator\n",
    "def read_data(path):\n",
    "    df = pd.read_csv(path)\n",
    "    print(\"========\")\n",
    "    print(f\"Shape of data = {df.shape}\")\n",
    "    print(\"========\")\n",
    "    print(\"Column types are:\")\n",
    "    print(df.dtypes)\n",
    "    print(\"========\")\n",
    "    print(\"Take a glance at data\")\n",
    "    print(pd.concat([df.head(),df.tail()],axis=0))\n",
    "    print(\"========\")\n",
    "    return df"
   ]
  },
  {
   "cell_type": "code",
   "execution_count": 10,
   "id": "a1b8876d",
   "metadata": {},
   "outputs": [
    {
     "name": "stdout",
     "output_type": "stream",
     "text": [
      "========\n",
      "Shape of data = (350688, 2)\n",
      "========\n",
      "Column types are:\n",
      "time     object\n",
      "open    float64\n",
      "dtype: object\n",
      "========\n",
      "Take a glance at data\n",
      "                       time      open\n",
      "0       2012-01-01 00:00:00      4.58\n",
      "1       2012-01-01 00:15:00      4.58\n",
      "2       2012-01-01 00:30:00      4.58\n",
      "3       2012-01-01 00:45:00      4.58\n",
      "4       2012-01-01 01:00:00      4.58\n",
      "350683  2021-12-31 22:45:00  46290.58\n",
      "350684  2021-12-31 23:00:00  46303.98\n",
      "350685  2021-12-31 23:15:00  46429.65\n",
      "350686  2021-12-31 23:30:00  46350.44\n",
      "350687  2021-12-31 23:45:00  46465.54\n",
      "========\n",
      "data elapsed = 0:00:00.203824\n"
     ]
    }
   ],
   "source": [
    "data = read_data('15mindata.csv')"
   ]
  },
  {
   "cell_type": "code",
   "execution_count": 11,
   "id": "532eb89e",
   "metadata": {},
   "outputs": [],
   "source": [
    "def copy_data(df):\n",
    "    return df.copy()"
   ]
  },
  {
   "cell_type": "code",
   "execution_count": 12,
   "id": "0bd7774e",
   "metadata": {},
   "outputs": [],
   "source": [
    "@timer_decorator\n",
    "def create_date_columns(df):\n",
    "    df['time'] = pd.to_datetime(df['time'])\n",
    "    df['year'] = df['time'].dt.year\n",
    "    df['month'] = df['time'].dt.month\n",
    "    df['day'] = df['time'].dt.day\n",
    "    df['hour'] = df['time'].dt.hour\n",
    "    df['minute'] = df['time'].dt.minute\n",
    "    return df"
   ]
  },
  {
   "cell_type": "code",
   "execution_count": 13,
   "id": "220c885b",
   "metadata": {},
   "outputs": [],
   "source": [
    "#data = create_date_columns(data)"
   ]
  },
  {
   "cell_type": "code",
   "execution_count": 14,
   "id": "6a4cd41c",
   "metadata": {},
   "outputs": [],
   "source": [
    "@timer_decorator\n",
    "def filter_data(df,drop_years, hour_to_keep, minute_to_keep):\n",
    "    filter_ = (~df['year'].isin(drop_years)) & (df['hour'] % hour_to_keep == 0) & (df['minute'] == 0)\n",
    "    return df[filter_]"
   ]
  },
  {
   "cell_type": "code",
   "execution_count": 15,
   "id": "895fda54",
   "metadata": {},
   "outputs": [],
   "source": [
    "#data = filter_data(data,[2012],4,0)"
   ]
  },
  {
   "cell_type": "markdown",
   "id": "07dcfdfa",
   "metadata": {},
   "source": [
    "# Set Parameters"
   ]
  },
  {
   "cell_type": "code",
   "execution_count": 16,
   "id": "67a552a9",
   "metadata": {},
   "outputs": [],
   "source": [
    "time_step = 120\n",
    "next_period = 1\n",
    "n_features = 1"
   ]
  },
  {
   "cell_type": "code",
   "execution_count": 17,
   "id": "48a927c8",
   "metadata": {},
   "outputs": [],
   "source": [
    "@timer_decorator\n",
    "def create_train_data(df,time_step,next_period):\n",
    "    arr = np.array(df['open'])\n",
    "    input_data = []\n",
    "    target_data = []\n",
    "    for i in tqdm(range(len(arr) - time_step)):\n",
    "        input_data.append(arr[i:i+time_step])\n",
    "        target_data.append(arr[i+time_step])\n",
    "    input_data = np.asarray(input_data)\n",
    "    target_data = np.asarray(target_data)\n",
    "    mydata = pd.DataFrame(input_data,columns = ['T{}'.format(i) for i in range(1,time_step + 1,1)])\n",
    "    mydata['target'] = target_data\n",
    "    \n",
    "    print(f\"Training data size =  {mydata.shape}\")\n",
    "    \n",
    "    return mydata"
   ]
  },
  {
   "cell_type": "code",
   "execution_count": 18,
   "id": "4b95cb9c",
   "metadata": {},
   "outputs": [],
   "source": [
    "#data = create_train_data(data,time_step,next_period)"
   ]
  },
  {
   "cell_type": "code",
   "execution_count": 19,
   "id": "b064aee2",
   "metadata": {},
   "outputs": [],
   "source": [
    "def label_maker(x):\n",
    "    if x <= -1.5:\n",
    "        return 0\n",
    "    elif (-1.5 < x) & (x <= 1.5):\n",
    "        return 1\n",
    "    elif 1.5 < x :\n",
    "        return 2\n",
    "    else:\n",
    "        pass"
   ]
  },
  {
   "cell_type": "code",
   "execution_count": 20,
   "id": "add6f3e8",
   "metadata": {},
   "outputs": [],
   "source": [
    "@timer_decorator\n",
    "def create_label(df):\n",
    "    df['scaled_target'] = (df.iloc[:,-1] - df.iloc[:,-2]) / df.iloc[:,-2]\n",
    "    df['percentile_target'] = df['scaled_target']*100\n",
    "    df['categorical_target_change'] = (df['percentile_target'].abs() > change_ratio) *1\n",
    "    return df"
   ]
  },
  {
   "cell_type": "code",
   "execution_count": 21,
   "id": "042c7fb6",
   "metadata": {},
   "outputs": [],
   "source": [
    "#data = create_label(data)"
   ]
  },
  {
   "cell_type": "code",
   "execution_count": 22,
   "id": "20e23b80",
   "metadata": {},
   "outputs": [
    {
     "data": {
      "text/html": [
       "<div>\n",
       "<style scoped>\n",
       "    .dataframe tbody tr th:only-of-type {\n",
       "        vertical-align: middle;\n",
       "    }\n",
       "\n",
       "    .dataframe tbody tr th {\n",
       "        vertical-align: top;\n",
       "    }\n",
       "\n",
       "    .dataframe thead th {\n",
       "        text-align: right;\n",
       "    }\n",
       "</style>\n",
       "<table border=\"1\" class=\"dataframe\">\n",
       "  <thead>\n",
       "    <tr style=\"text-align: right;\">\n",
       "      <th></th>\n",
       "      <th>time</th>\n",
       "      <th>open</th>\n",
       "    </tr>\n",
       "  </thead>\n",
       "  <tbody>\n",
       "    <tr>\n",
       "      <th>350683</th>\n",
       "      <td>2021-12-31 22:45:00</td>\n",
       "      <td>46290.58</td>\n",
       "    </tr>\n",
       "    <tr>\n",
       "      <th>350684</th>\n",
       "      <td>2021-12-31 23:00:00</td>\n",
       "      <td>46303.98</td>\n",
       "    </tr>\n",
       "    <tr>\n",
       "      <th>350685</th>\n",
       "      <td>2021-12-31 23:15:00</td>\n",
       "      <td>46429.65</td>\n",
       "    </tr>\n",
       "    <tr>\n",
       "      <th>350686</th>\n",
       "      <td>2021-12-31 23:30:00</td>\n",
       "      <td>46350.44</td>\n",
       "    </tr>\n",
       "    <tr>\n",
       "      <th>350687</th>\n",
       "      <td>2021-12-31 23:45:00</td>\n",
       "      <td>46465.54</td>\n",
       "    </tr>\n",
       "  </tbody>\n",
       "</table>\n",
       "</div>"
      ],
      "text/plain": [
       "                       time      open\n",
       "350683  2021-12-31 22:45:00  46290.58\n",
       "350684  2021-12-31 23:00:00  46303.98\n",
       "350685  2021-12-31 23:15:00  46429.65\n",
       "350686  2021-12-31 23:30:00  46350.44\n",
       "350687  2021-12-31 23:45:00  46465.54"
      ]
     },
     "execution_count": 22,
     "metadata": {},
     "output_type": "execute_result"
    }
   ],
   "source": [
    "data.tail()"
   ]
  },
  {
   "cell_type": "code",
   "execution_count": 23,
   "id": "0ed2ee13",
   "metadata": {},
   "outputs": [],
   "source": [
    "@timer_decorator\n",
    "def create_columnwise_features(df,time_step):\n",
    "    df['columnwise_min'] = df.iloc[:,:time_step].min(axis=1)\n",
    "    df['columnwise_max'] = df.iloc[:,:time_step].max(axis=1)\n",
    "    df['columnwise_median'] = df.iloc[:,:time_step].median(axis=1)\n",
    "    return df"
   ]
  },
  {
   "cell_type": "code",
   "execution_count": 24,
   "id": "e07dad76",
   "metadata": {},
   "outputs": [],
   "source": [
    "#data = create_columnwise_features(data,time_step)"
   ]
  },
  {
   "cell_type": "code",
   "execution_count": 25,
   "id": "f9bc9142",
   "metadata": {},
   "outputs": [],
   "source": [
    "def scale_btw_neg1_and_pos1(df,time_step):\n",
    "    df[[f'T{x}' for x in range (1,time_step+1,1) ]] = \\\n",
    "    np.array([ np.interp( x, ( np.array(x).min(),np.array(x).max() ), (-1,1) )\\\n",
    "              for x in df[[f'T{x}' for x in range (1,time_step+1,1) ]].values.tolist() ])\n",
    "    return df"
   ]
  },
  {
   "cell_type": "code",
   "execution_count": 26,
   "id": "a9d2dce6",
   "metadata": {},
   "outputs": [],
   "source": [
    "def scale_btw_0_and_1(df,time_step):\n",
    "    for i in range(1,time_step+1,1):\n",
    "        df['T{}'.format(i)] = (df['T{}'.format(i)] - df['columnwise_min']) / (df['columnwise_max'] - df['columnwise_min'])\n",
    "    return df"
   ]
  },
  {
   "cell_type": "code",
   "execution_count": 27,
   "id": "162c5ebb",
   "metadata": {},
   "outputs": [],
   "source": [
    "#data = scale_btw_0_and_1(data,time_step)"
   ]
  },
  {
   "cell_type": "code",
   "execution_count": 28,
   "id": "306167cf",
   "metadata": {},
   "outputs": [
    {
     "data": {
      "text/html": [
       "<div>\n",
       "<style scoped>\n",
       "    .dataframe tbody tr th:only-of-type {\n",
       "        vertical-align: middle;\n",
       "    }\n",
       "\n",
       "    .dataframe tbody tr th {\n",
       "        vertical-align: top;\n",
       "    }\n",
       "\n",
       "    .dataframe thead th {\n",
       "        text-align: right;\n",
       "    }\n",
       "</style>\n",
       "<table border=\"1\" class=\"dataframe\">\n",
       "  <thead>\n",
       "    <tr style=\"text-align: right;\">\n",
       "      <th></th>\n",
       "      <th>time</th>\n",
       "      <th>open</th>\n",
       "    </tr>\n",
       "  </thead>\n",
       "  <tbody>\n",
       "    <tr>\n",
       "      <th>350683</th>\n",
       "      <td>2021-12-31 22:45:00</td>\n",
       "      <td>46290.58</td>\n",
       "    </tr>\n",
       "    <tr>\n",
       "      <th>350684</th>\n",
       "      <td>2021-12-31 23:00:00</td>\n",
       "      <td>46303.98</td>\n",
       "    </tr>\n",
       "    <tr>\n",
       "      <th>350685</th>\n",
       "      <td>2021-12-31 23:15:00</td>\n",
       "      <td>46429.65</td>\n",
       "    </tr>\n",
       "    <tr>\n",
       "      <th>350686</th>\n",
       "      <td>2021-12-31 23:30:00</td>\n",
       "      <td>46350.44</td>\n",
       "    </tr>\n",
       "    <tr>\n",
       "      <th>350687</th>\n",
       "      <td>2021-12-31 23:45:00</td>\n",
       "      <td>46465.54</td>\n",
       "    </tr>\n",
       "  </tbody>\n",
       "</table>\n",
       "</div>"
      ],
      "text/plain": [
       "                       time      open\n",
       "350683  2021-12-31 22:45:00  46290.58\n",
       "350684  2021-12-31 23:00:00  46303.98\n",
       "350685  2021-12-31 23:15:00  46429.65\n",
       "350686  2021-12-31 23:30:00  46350.44\n",
       "350687  2021-12-31 23:45:00  46465.54"
      ]
     },
     "execution_count": 28,
     "metadata": {},
     "output_type": "execute_result"
    }
   ],
   "source": [
    "data.tail()"
   ]
  },
  {
   "cell_type": "code",
   "execution_count": 29,
   "id": "825e69be",
   "metadata": {},
   "outputs": [],
   "source": [
    "def create_input_via_shifting(df, time_step):\n",
    "    print(df.shape)\n",
    "    for i in range(1,time_step+1,1):\n",
    "        df['T{}'.format(time_step + 1 - i)] = df['categorical_target_change'].shift(i)\n",
    "    \n",
    "    df = df[time_step:].reset_index(drop=True)\n",
    "    print(df.shape)\n",
    "    return df"
   ]
  },
  {
   "cell_type": "code",
   "execution_count": 30,
   "id": "69fcac3a",
   "metadata": {},
   "outputs": [],
   "source": [
    "#data = create_input_via_shifting(data, time_step)"
   ]
  },
  {
   "cell_type": "code",
   "execution_count": 31,
   "id": "95a52ffb",
   "metadata": {},
   "outputs": [
    {
     "data": {
      "text/html": [
       "<div>\n",
       "<style scoped>\n",
       "    .dataframe tbody tr th:only-of-type {\n",
       "        vertical-align: middle;\n",
       "    }\n",
       "\n",
       "    .dataframe tbody tr th {\n",
       "        vertical-align: top;\n",
       "    }\n",
       "\n",
       "    .dataframe thead th {\n",
       "        text-align: right;\n",
       "    }\n",
       "</style>\n",
       "<table border=\"1\" class=\"dataframe\">\n",
       "  <thead>\n",
       "    <tr style=\"text-align: right;\">\n",
       "      <th></th>\n",
       "      <th>time</th>\n",
       "      <th>open</th>\n",
       "    </tr>\n",
       "  </thead>\n",
       "  <tbody>\n",
       "    <tr>\n",
       "      <th>350683</th>\n",
       "      <td>2021-12-31 22:45:00</td>\n",
       "      <td>46290.58</td>\n",
       "    </tr>\n",
       "    <tr>\n",
       "      <th>350684</th>\n",
       "      <td>2021-12-31 23:00:00</td>\n",
       "      <td>46303.98</td>\n",
       "    </tr>\n",
       "    <tr>\n",
       "      <th>350685</th>\n",
       "      <td>2021-12-31 23:15:00</td>\n",
       "      <td>46429.65</td>\n",
       "    </tr>\n",
       "    <tr>\n",
       "      <th>350686</th>\n",
       "      <td>2021-12-31 23:30:00</td>\n",
       "      <td>46350.44</td>\n",
       "    </tr>\n",
       "    <tr>\n",
       "      <th>350687</th>\n",
       "      <td>2021-12-31 23:45:00</td>\n",
       "      <td>46465.54</td>\n",
       "    </tr>\n",
       "  </tbody>\n",
       "</table>\n",
       "</div>"
      ],
      "text/plain": [
       "                       time      open\n",
       "350683  2021-12-31 22:45:00  46290.58\n",
       "350684  2021-12-31 23:00:00  46303.98\n",
       "350685  2021-12-31 23:15:00  46429.65\n",
       "350686  2021-12-31 23:30:00  46350.44\n",
       "350687  2021-12-31 23:45:00  46465.54"
      ]
     },
     "execution_count": 31,
     "metadata": {},
     "output_type": "execute_result"
    }
   ],
   "source": [
    "data.tail()"
   ]
  },
  {
   "cell_type": "code",
   "execution_count": 32,
   "id": "e0a53fcd",
   "metadata": {},
   "outputs": [],
   "source": [
    "#mydata['categorical_target'].value_counts(normalize=True)"
   ]
  },
  {
   "cell_type": "code",
   "execution_count": 33,
   "id": "aee13a6b",
   "metadata": {},
   "outputs": [
    {
     "data": {
      "text/html": [
       "<div>\n",
       "<style scoped>\n",
       "    .dataframe tbody tr th:only-of-type {\n",
       "        vertical-align: middle;\n",
       "    }\n",
       "\n",
       "    .dataframe tbody tr th {\n",
       "        vertical-align: top;\n",
       "    }\n",
       "\n",
       "    .dataframe thead th {\n",
       "        text-align: right;\n",
       "    }\n",
       "</style>\n",
       "<table border=\"1\" class=\"dataframe\">\n",
       "  <thead>\n",
       "    <tr style=\"text-align: right;\">\n",
       "      <th></th>\n",
       "      <th>time</th>\n",
       "      <th>open</th>\n",
       "    </tr>\n",
       "  </thead>\n",
       "  <tbody>\n",
       "    <tr>\n",
       "      <th>0</th>\n",
       "      <td>2012-01-01 00:00:00</td>\n",
       "      <td>4.58</td>\n",
       "    </tr>\n",
       "    <tr>\n",
       "      <th>1</th>\n",
       "      <td>2012-01-01 00:15:00</td>\n",
       "      <td>4.58</td>\n",
       "    </tr>\n",
       "    <tr>\n",
       "      <th>2</th>\n",
       "      <td>2012-01-01 00:30:00</td>\n",
       "      <td>4.58</td>\n",
       "    </tr>\n",
       "    <tr>\n",
       "      <th>3</th>\n",
       "      <td>2012-01-01 00:45:00</td>\n",
       "      <td>4.58</td>\n",
       "    </tr>\n",
       "    <tr>\n",
       "      <th>4</th>\n",
       "      <td>2012-01-01 01:00:00</td>\n",
       "      <td>4.58</td>\n",
       "    </tr>\n",
       "  </tbody>\n",
       "</table>\n",
       "</div>"
      ],
      "text/plain": [
       "                  time  open\n",
       "0  2012-01-01 00:00:00  4.58\n",
       "1  2012-01-01 00:15:00  4.58\n",
       "2  2012-01-01 00:30:00  4.58\n",
       "3  2012-01-01 00:45:00  4.58\n",
       "4  2012-01-01 01:00:00  4.58"
      ]
     },
     "execution_count": 33,
     "metadata": {},
     "output_type": "execute_result"
    }
   ],
   "source": [
    "data.head()"
   ]
  },
  {
   "cell_type": "code",
   "execution_count": 34,
   "id": "8e629b2c",
   "metadata": {},
   "outputs": [
    {
     "name": "stdout",
     "output_type": "stream",
     "text": [
      "data elapsed = 0:00:00.211102\n",
      "data elapsed = 0:00:00.015633\n"
     ]
    },
    {
     "name": "stderr",
     "output_type": "stream",
     "text": [
      "100%|████████████████████████████████| 19602/19602 [00:00<00:00, 1582034.42it/s]"
     ]
    },
    {
     "name": "stdout",
     "output_type": "stream",
     "text": [
      "Training data size =  (19602, 121)\n",
      "data elapsed = 0:00:00.026135\n",
      "data elapsed = 0:00:00.002190\n",
      "(19602, 124)\n",
      "(19482, 124)\n"
     ]
    },
    {
     "name": "stderr",
     "output_type": "stream",
     "text": [
      "\n"
     ]
    }
   ],
   "source": [
    "data = (data.pipe(copy_data)\n",
    "     .pipe(create_date_columns)\n",
    "     .pipe(filter_data,drop_years = [2012],hour_to_keep = 4,minute_to_keep = 0)\n",
    "     .pipe(create_train_data,time_step,next_period)\n",
    "     .pipe(create_label)\n",
    "     .pipe(create_input_via_shifting,time_step)\n",
    ")"
   ]
  },
  {
   "cell_type": "code",
   "execution_count": 35,
   "id": "30f2cbc5",
   "metadata": {},
   "outputs": [
    {
     "data": {
      "text/html": [
       "<div>\n",
       "<style scoped>\n",
       "    .dataframe tbody tr th:only-of-type {\n",
       "        vertical-align: middle;\n",
       "    }\n",
       "\n",
       "    .dataframe tbody tr th {\n",
       "        vertical-align: top;\n",
       "    }\n",
       "\n",
       "    .dataframe thead th {\n",
       "        text-align: right;\n",
       "    }\n",
       "</style>\n",
       "<table border=\"1\" class=\"dataframe\">\n",
       "  <thead>\n",
       "    <tr style=\"text-align: right;\">\n",
       "      <th></th>\n",
       "      <th>T1</th>\n",
       "      <th>T2</th>\n",
       "      <th>T3</th>\n",
       "      <th>T4</th>\n",
       "      <th>T5</th>\n",
       "      <th>T6</th>\n",
       "      <th>T7</th>\n",
       "      <th>T8</th>\n",
       "      <th>T9</th>\n",
       "      <th>T10</th>\n",
       "      <th>T11</th>\n",
       "      <th>T12</th>\n",
       "      <th>T13</th>\n",
       "      <th>T14</th>\n",
       "      <th>T15</th>\n",
       "      <th>T16</th>\n",
       "      <th>T17</th>\n",
       "      <th>T18</th>\n",
       "      <th>T19</th>\n",
       "      <th>T20</th>\n",
       "      <th>T21</th>\n",
       "      <th>T22</th>\n",
       "      <th>T23</th>\n",
       "      <th>T24</th>\n",
       "      <th>T25</th>\n",
       "      <th>T26</th>\n",
       "      <th>T27</th>\n",
       "      <th>T28</th>\n",
       "      <th>T29</th>\n",
       "      <th>T30</th>\n",
       "      <th>T31</th>\n",
       "      <th>T32</th>\n",
       "      <th>T33</th>\n",
       "      <th>T34</th>\n",
       "      <th>T35</th>\n",
       "      <th>T36</th>\n",
       "      <th>T37</th>\n",
       "      <th>T38</th>\n",
       "      <th>T39</th>\n",
       "      <th>T40</th>\n",
       "      <th>T41</th>\n",
       "      <th>T42</th>\n",
       "      <th>T43</th>\n",
       "      <th>T44</th>\n",
       "      <th>T45</th>\n",
       "      <th>T46</th>\n",
       "      <th>T47</th>\n",
       "      <th>T48</th>\n",
       "      <th>T49</th>\n",
       "      <th>T50</th>\n",
       "      <th>T51</th>\n",
       "      <th>T52</th>\n",
       "      <th>T53</th>\n",
       "      <th>T54</th>\n",
       "      <th>T55</th>\n",
       "      <th>T56</th>\n",
       "      <th>T57</th>\n",
       "      <th>T58</th>\n",
       "      <th>T59</th>\n",
       "      <th>T60</th>\n",
       "      <th>T61</th>\n",
       "      <th>T62</th>\n",
       "      <th>T63</th>\n",
       "      <th>T64</th>\n",
       "      <th>T65</th>\n",
       "      <th>T66</th>\n",
       "      <th>T67</th>\n",
       "      <th>T68</th>\n",
       "      <th>T69</th>\n",
       "      <th>T70</th>\n",
       "      <th>T71</th>\n",
       "      <th>T72</th>\n",
       "      <th>T73</th>\n",
       "      <th>T74</th>\n",
       "      <th>T75</th>\n",
       "      <th>T76</th>\n",
       "      <th>T77</th>\n",
       "      <th>T78</th>\n",
       "      <th>T79</th>\n",
       "      <th>T80</th>\n",
       "      <th>T81</th>\n",
       "      <th>T82</th>\n",
       "      <th>T83</th>\n",
       "      <th>T84</th>\n",
       "      <th>T85</th>\n",
       "      <th>T86</th>\n",
       "      <th>T87</th>\n",
       "      <th>T88</th>\n",
       "      <th>T89</th>\n",
       "      <th>T90</th>\n",
       "      <th>T91</th>\n",
       "      <th>T92</th>\n",
       "      <th>T93</th>\n",
       "      <th>T94</th>\n",
       "      <th>T95</th>\n",
       "      <th>T96</th>\n",
       "      <th>T97</th>\n",
       "      <th>T98</th>\n",
       "      <th>T99</th>\n",
       "      <th>T100</th>\n",
       "      <th>T101</th>\n",
       "      <th>T102</th>\n",
       "      <th>T103</th>\n",
       "      <th>T104</th>\n",
       "      <th>T105</th>\n",
       "      <th>T106</th>\n",
       "      <th>T107</th>\n",
       "      <th>T108</th>\n",
       "      <th>T109</th>\n",
       "      <th>T110</th>\n",
       "      <th>T111</th>\n",
       "      <th>T112</th>\n",
       "      <th>T113</th>\n",
       "      <th>T114</th>\n",
       "      <th>T115</th>\n",
       "      <th>T116</th>\n",
       "      <th>T117</th>\n",
       "      <th>T118</th>\n",
       "      <th>T119</th>\n",
       "      <th>T120</th>\n",
       "      <th>target</th>\n",
       "      <th>scaled_target</th>\n",
       "      <th>percentile_target</th>\n",
       "      <th>categorical_target_change</th>\n",
       "    </tr>\n",
       "  </thead>\n",
       "  <tbody>\n",
       "    <tr>\n",
       "      <th>0</th>\n",
       "      <td>0.0</td>\n",
       "      <td>0.0</td>\n",
       "      <td>0.0</td>\n",
       "      <td>0.0</td>\n",
       "      <td>1.0</td>\n",
       "      <td>1.0</td>\n",
       "      <td>0.0</td>\n",
       "      <td>0.0</td>\n",
       "      <td>0.0</td>\n",
       "      <td>1.0</td>\n",
       "      <td>1.0</td>\n",
       "      <td>0.0</td>\n",
       "      <td>0.0</td>\n",
       "      <td>0.0</td>\n",
       "      <td>1.0</td>\n",
       "      <td>1.0</td>\n",
       "      <td>0.0</td>\n",
       "      <td>1.0</td>\n",
       "      <td>0.0</td>\n",
       "      <td>1.0</td>\n",
       "      <td>1.0</td>\n",
       "      <td>0.0</td>\n",
       "      <td>0.0</td>\n",
       "      <td>1.0</td>\n",
       "      <td>1.0</td>\n",
       "      <td>1.0</td>\n",
       "      <td>1.0</td>\n",
       "      <td>0.0</td>\n",
       "      <td>0.0</td>\n",
       "      <td>0.0</td>\n",
       "      <td>0.0</td>\n",
       "      <td>1.0</td>\n",
       "      <td>0.0</td>\n",
       "      <td>0.0</td>\n",
       "      <td>0.0</td>\n",
       "      <td>1.0</td>\n",
       "      <td>1.0</td>\n",
       "      <td>0.0</td>\n",
       "      <td>0.0</td>\n",
       "      <td>0.0</td>\n",
       "      <td>0.0</td>\n",
       "      <td>0.0</td>\n",
       "      <td>0.0</td>\n",
       "      <td>0.0</td>\n",
       "      <td>0.0</td>\n",
       "      <td>0.0</td>\n",
       "      <td>0.0</td>\n",
       "      <td>1.0</td>\n",
       "      <td>1.0</td>\n",
       "      <td>0.0</td>\n",
       "      <td>0.0</td>\n",
       "      <td>1.0</td>\n",
       "      <td>1.0</td>\n",
       "      <td>1.0</td>\n",
       "      <td>0.0</td>\n",
       "      <td>1.0</td>\n",
       "      <td>0.0</td>\n",
       "      <td>0.0</td>\n",
       "      <td>1.0</td>\n",
       "      <td>0.0</td>\n",
       "      <td>0.0</td>\n",
       "      <td>0.0</td>\n",
       "      <td>0.0</td>\n",
       "      <td>1.0</td>\n",
       "      <td>1.0</td>\n",
       "      <td>0.0</td>\n",
       "      <td>1.0</td>\n",
       "      <td>0.0</td>\n",
       "      <td>0.0</td>\n",
       "      <td>0.0</td>\n",
       "      <td>0.0</td>\n",
       "      <td>0.0</td>\n",
       "      <td>0.0</td>\n",
       "      <td>0.0</td>\n",
       "      <td>0.0</td>\n",
       "      <td>1.0</td>\n",
       "      <td>1.0</td>\n",
       "      <td>0.0</td>\n",
       "      <td>0.0</td>\n",
       "      <td>0.0</td>\n",
       "      <td>0.0</td>\n",
       "      <td>0.0</td>\n",
       "      <td>0.0</td>\n",
       "      <td>1.0</td>\n",
       "      <td>0.0</td>\n",
       "      <td>0.0</td>\n",
       "      <td>0.0</td>\n",
       "      <td>0.0</td>\n",
       "      <td>0.0</td>\n",
       "      <td>0.0</td>\n",
       "      <td>0.0</td>\n",
       "      <td>0.0</td>\n",
       "      <td>0.0</td>\n",
       "      <td>0.0</td>\n",
       "      <td>0.0</td>\n",
       "      <td>0.0</td>\n",
       "      <td>0.0</td>\n",
       "      <td>0.0</td>\n",
       "      <td>0.0</td>\n",
       "      <td>0.0</td>\n",
       "      <td>0.0</td>\n",
       "      <td>0.0</td>\n",
       "      <td>0.0</td>\n",
       "      <td>0.0</td>\n",
       "      <td>0.0</td>\n",
       "      <td>1.0</td>\n",
       "      <td>1.0</td>\n",
       "      <td>0.0</td>\n",
       "      <td>0.0</td>\n",
       "      <td>0.0</td>\n",
       "      <td>1.0</td>\n",
       "      <td>0.0</td>\n",
       "      <td>1.0</td>\n",
       "      <td>0.0</td>\n",
       "      <td>0.0</td>\n",
       "      <td>0.0</td>\n",
       "      <td>0.0</td>\n",
       "      <td>1.0</td>\n",
       "      <td>1.0</td>\n",
       "      <td>0.0</td>\n",
       "      <td>23.13</td>\n",
       "      <td>-0.005161</td>\n",
       "      <td>-0.516129</td>\n",
       "      <td>0</td>\n",
       "    </tr>\n",
       "    <tr>\n",
       "      <th>1</th>\n",
       "      <td>0.0</td>\n",
       "      <td>0.0</td>\n",
       "      <td>0.0</td>\n",
       "      <td>1.0</td>\n",
       "      <td>1.0</td>\n",
       "      <td>0.0</td>\n",
       "      <td>0.0</td>\n",
       "      <td>0.0</td>\n",
       "      <td>1.0</td>\n",
       "      <td>1.0</td>\n",
       "      <td>0.0</td>\n",
       "      <td>0.0</td>\n",
       "      <td>0.0</td>\n",
       "      <td>1.0</td>\n",
       "      <td>1.0</td>\n",
       "      <td>0.0</td>\n",
       "      <td>1.0</td>\n",
       "      <td>0.0</td>\n",
       "      <td>1.0</td>\n",
       "      <td>1.0</td>\n",
       "      <td>0.0</td>\n",
       "      <td>0.0</td>\n",
       "      <td>1.0</td>\n",
       "      <td>1.0</td>\n",
       "      <td>1.0</td>\n",
       "      <td>1.0</td>\n",
       "      <td>0.0</td>\n",
       "      <td>0.0</td>\n",
       "      <td>0.0</td>\n",
       "      <td>0.0</td>\n",
       "      <td>1.0</td>\n",
       "      <td>0.0</td>\n",
       "      <td>0.0</td>\n",
       "      <td>0.0</td>\n",
       "      <td>1.0</td>\n",
       "      <td>1.0</td>\n",
       "      <td>0.0</td>\n",
       "      <td>0.0</td>\n",
       "      <td>0.0</td>\n",
       "      <td>0.0</td>\n",
       "      <td>0.0</td>\n",
       "      <td>0.0</td>\n",
       "      <td>0.0</td>\n",
       "      <td>0.0</td>\n",
       "      <td>0.0</td>\n",
       "      <td>0.0</td>\n",
       "      <td>1.0</td>\n",
       "      <td>1.0</td>\n",
       "      <td>0.0</td>\n",
       "      <td>0.0</td>\n",
       "      <td>1.0</td>\n",
       "      <td>1.0</td>\n",
       "      <td>1.0</td>\n",
       "      <td>0.0</td>\n",
       "      <td>1.0</td>\n",
       "      <td>0.0</td>\n",
       "      <td>0.0</td>\n",
       "      <td>1.0</td>\n",
       "      <td>0.0</td>\n",
       "      <td>0.0</td>\n",
       "      <td>0.0</td>\n",
       "      <td>0.0</td>\n",
       "      <td>1.0</td>\n",
       "      <td>1.0</td>\n",
       "      <td>0.0</td>\n",
       "      <td>1.0</td>\n",
       "      <td>0.0</td>\n",
       "      <td>0.0</td>\n",
       "      <td>0.0</td>\n",
       "      <td>0.0</td>\n",
       "      <td>0.0</td>\n",
       "      <td>0.0</td>\n",
       "      <td>0.0</td>\n",
       "      <td>0.0</td>\n",
       "      <td>1.0</td>\n",
       "      <td>1.0</td>\n",
       "      <td>0.0</td>\n",
       "      <td>0.0</td>\n",
       "      <td>0.0</td>\n",
       "      <td>0.0</td>\n",
       "      <td>0.0</td>\n",
       "      <td>0.0</td>\n",
       "      <td>1.0</td>\n",
       "      <td>0.0</td>\n",
       "      <td>0.0</td>\n",
       "      <td>0.0</td>\n",
       "      <td>0.0</td>\n",
       "      <td>0.0</td>\n",
       "      <td>0.0</td>\n",
       "      <td>0.0</td>\n",
       "      <td>0.0</td>\n",
       "      <td>0.0</td>\n",
       "      <td>0.0</td>\n",
       "      <td>0.0</td>\n",
       "      <td>0.0</td>\n",
       "      <td>0.0</td>\n",
       "      <td>0.0</td>\n",
       "      <td>0.0</td>\n",
       "      <td>0.0</td>\n",
       "      <td>0.0</td>\n",
       "      <td>0.0</td>\n",
       "      <td>0.0</td>\n",
       "      <td>0.0</td>\n",
       "      <td>0.0</td>\n",
       "      <td>1.0</td>\n",
       "      <td>1.0</td>\n",
       "      <td>0.0</td>\n",
       "      <td>0.0</td>\n",
       "      <td>0.0</td>\n",
       "      <td>1.0</td>\n",
       "      <td>0.0</td>\n",
       "      <td>1.0</td>\n",
       "      <td>0.0</td>\n",
       "      <td>0.0</td>\n",
       "      <td>0.0</td>\n",
       "      <td>0.0</td>\n",
       "      <td>1.0</td>\n",
       "      <td>1.0</td>\n",
       "      <td>0.0</td>\n",
       "      <td>0.0</td>\n",
       "      <td>23.49</td>\n",
       "      <td>0.015564</td>\n",
       "      <td>1.556420</td>\n",
       "      <td>1</td>\n",
       "    </tr>\n",
       "    <tr>\n",
       "      <th>2</th>\n",
       "      <td>0.0</td>\n",
       "      <td>0.0</td>\n",
       "      <td>1.0</td>\n",
       "      <td>1.0</td>\n",
       "      <td>0.0</td>\n",
       "      <td>0.0</td>\n",
       "      <td>0.0</td>\n",
       "      <td>1.0</td>\n",
       "      <td>1.0</td>\n",
       "      <td>0.0</td>\n",
       "      <td>0.0</td>\n",
       "      <td>0.0</td>\n",
       "      <td>1.0</td>\n",
       "      <td>1.0</td>\n",
       "      <td>0.0</td>\n",
       "      <td>1.0</td>\n",
       "      <td>0.0</td>\n",
       "      <td>1.0</td>\n",
       "      <td>1.0</td>\n",
       "      <td>0.0</td>\n",
       "      <td>0.0</td>\n",
       "      <td>1.0</td>\n",
       "      <td>1.0</td>\n",
       "      <td>1.0</td>\n",
       "      <td>1.0</td>\n",
       "      <td>0.0</td>\n",
       "      <td>0.0</td>\n",
       "      <td>0.0</td>\n",
       "      <td>0.0</td>\n",
       "      <td>1.0</td>\n",
       "      <td>0.0</td>\n",
       "      <td>0.0</td>\n",
       "      <td>0.0</td>\n",
       "      <td>1.0</td>\n",
       "      <td>1.0</td>\n",
       "      <td>0.0</td>\n",
       "      <td>0.0</td>\n",
       "      <td>0.0</td>\n",
       "      <td>0.0</td>\n",
       "      <td>0.0</td>\n",
       "      <td>0.0</td>\n",
       "      <td>0.0</td>\n",
       "      <td>0.0</td>\n",
       "      <td>0.0</td>\n",
       "      <td>0.0</td>\n",
       "      <td>1.0</td>\n",
       "      <td>1.0</td>\n",
       "      <td>0.0</td>\n",
       "      <td>0.0</td>\n",
       "      <td>1.0</td>\n",
       "      <td>1.0</td>\n",
       "      <td>1.0</td>\n",
       "      <td>0.0</td>\n",
       "      <td>1.0</td>\n",
       "      <td>0.0</td>\n",
       "      <td>0.0</td>\n",
       "      <td>1.0</td>\n",
       "      <td>0.0</td>\n",
       "      <td>0.0</td>\n",
       "      <td>0.0</td>\n",
       "      <td>0.0</td>\n",
       "      <td>1.0</td>\n",
       "      <td>1.0</td>\n",
       "      <td>0.0</td>\n",
       "      <td>1.0</td>\n",
       "      <td>0.0</td>\n",
       "      <td>0.0</td>\n",
       "      <td>0.0</td>\n",
       "      <td>0.0</td>\n",
       "      <td>0.0</td>\n",
       "      <td>0.0</td>\n",
       "      <td>0.0</td>\n",
       "      <td>0.0</td>\n",
       "      <td>1.0</td>\n",
       "      <td>1.0</td>\n",
       "      <td>0.0</td>\n",
       "      <td>0.0</td>\n",
       "      <td>0.0</td>\n",
       "      <td>0.0</td>\n",
       "      <td>0.0</td>\n",
       "      <td>0.0</td>\n",
       "      <td>1.0</td>\n",
       "      <td>0.0</td>\n",
       "      <td>0.0</td>\n",
       "      <td>0.0</td>\n",
       "      <td>0.0</td>\n",
       "      <td>0.0</td>\n",
       "      <td>0.0</td>\n",
       "      <td>0.0</td>\n",
       "      <td>0.0</td>\n",
       "      <td>0.0</td>\n",
       "      <td>0.0</td>\n",
       "      <td>0.0</td>\n",
       "      <td>0.0</td>\n",
       "      <td>0.0</td>\n",
       "      <td>0.0</td>\n",
       "      <td>0.0</td>\n",
       "      <td>0.0</td>\n",
       "      <td>0.0</td>\n",
       "      <td>0.0</td>\n",
       "      <td>0.0</td>\n",
       "      <td>0.0</td>\n",
       "      <td>0.0</td>\n",
       "      <td>1.0</td>\n",
       "      <td>1.0</td>\n",
       "      <td>0.0</td>\n",
       "      <td>0.0</td>\n",
       "      <td>0.0</td>\n",
       "      <td>1.0</td>\n",
       "      <td>0.0</td>\n",
       "      <td>1.0</td>\n",
       "      <td>0.0</td>\n",
       "      <td>0.0</td>\n",
       "      <td>0.0</td>\n",
       "      <td>0.0</td>\n",
       "      <td>1.0</td>\n",
       "      <td>1.0</td>\n",
       "      <td>0.0</td>\n",
       "      <td>0.0</td>\n",
       "      <td>1.0</td>\n",
       "      <td>23.16</td>\n",
       "      <td>-0.014049</td>\n",
       "      <td>-1.404853</td>\n",
       "      <td>0</td>\n",
       "    </tr>\n",
       "    <tr>\n",
       "      <th>3</th>\n",
       "      <td>0.0</td>\n",
       "      <td>1.0</td>\n",
       "      <td>1.0</td>\n",
       "      <td>0.0</td>\n",
       "      <td>0.0</td>\n",
       "      <td>0.0</td>\n",
       "      <td>1.0</td>\n",
       "      <td>1.0</td>\n",
       "      <td>0.0</td>\n",
       "      <td>0.0</td>\n",
       "      <td>0.0</td>\n",
       "      <td>1.0</td>\n",
       "      <td>1.0</td>\n",
       "      <td>0.0</td>\n",
       "      <td>1.0</td>\n",
       "      <td>0.0</td>\n",
       "      <td>1.0</td>\n",
       "      <td>1.0</td>\n",
       "      <td>0.0</td>\n",
       "      <td>0.0</td>\n",
       "      <td>1.0</td>\n",
       "      <td>1.0</td>\n",
       "      <td>1.0</td>\n",
       "      <td>1.0</td>\n",
       "      <td>0.0</td>\n",
       "      <td>0.0</td>\n",
       "      <td>0.0</td>\n",
       "      <td>0.0</td>\n",
       "      <td>1.0</td>\n",
       "      <td>0.0</td>\n",
       "      <td>0.0</td>\n",
       "      <td>0.0</td>\n",
       "      <td>1.0</td>\n",
       "      <td>1.0</td>\n",
       "      <td>0.0</td>\n",
       "      <td>0.0</td>\n",
       "      <td>0.0</td>\n",
       "      <td>0.0</td>\n",
       "      <td>0.0</td>\n",
       "      <td>0.0</td>\n",
       "      <td>0.0</td>\n",
       "      <td>0.0</td>\n",
       "      <td>0.0</td>\n",
       "      <td>0.0</td>\n",
       "      <td>1.0</td>\n",
       "      <td>1.0</td>\n",
       "      <td>0.0</td>\n",
       "      <td>0.0</td>\n",
       "      <td>1.0</td>\n",
       "      <td>1.0</td>\n",
       "      <td>1.0</td>\n",
       "      <td>0.0</td>\n",
       "      <td>1.0</td>\n",
       "      <td>0.0</td>\n",
       "      <td>0.0</td>\n",
       "      <td>1.0</td>\n",
       "      <td>0.0</td>\n",
       "      <td>0.0</td>\n",
       "      <td>0.0</td>\n",
       "      <td>0.0</td>\n",
       "      <td>1.0</td>\n",
       "      <td>1.0</td>\n",
       "      <td>0.0</td>\n",
       "      <td>1.0</td>\n",
       "      <td>0.0</td>\n",
       "      <td>0.0</td>\n",
       "      <td>0.0</td>\n",
       "      <td>0.0</td>\n",
       "      <td>0.0</td>\n",
       "      <td>0.0</td>\n",
       "      <td>0.0</td>\n",
       "      <td>0.0</td>\n",
       "      <td>1.0</td>\n",
       "      <td>1.0</td>\n",
       "      <td>0.0</td>\n",
       "      <td>0.0</td>\n",
       "      <td>0.0</td>\n",
       "      <td>0.0</td>\n",
       "      <td>0.0</td>\n",
       "      <td>0.0</td>\n",
       "      <td>1.0</td>\n",
       "      <td>0.0</td>\n",
       "      <td>0.0</td>\n",
       "      <td>0.0</td>\n",
       "      <td>0.0</td>\n",
       "      <td>0.0</td>\n",
       "      <td>0.0</td>\n",
       "      <td>0.0</td>\n",
       "      <td>0.0</td>\n",
       "      <td>0.0</td>\n",
       "      <td>0.0</td>\n",
       "      <td>0.0</td>\n",
       "      <td>0.0</td>\n",
       "      <td>0.0</td>\n",
       "      <td>0.0</td>\n",
       "      <td>0.0</td>\n",
       "      <td>0.0</td>\n",
       "      <td>0.0</td>\n",
       "      <td>0.0</td>\n",
       "      <td>0.0</td>\n",
       "      <td>0.0</td>\n",
       "      <td>0.0</td>\n",
       "      <td>1.0</td>\n",
       "      <td>1.0</td>\n",
       "      <td>0.0</td>\n",
       "      <td>0.0</td>\n",
       "      <td>0.0</td>\n",
       "      <td>1.0</td>\n",
       "      <td>0.0</td>\n",
       "      <td>1.0</td>\n",
       "      <td>0.0</td>\n",
       "      <td>0.0</td>\n",
       "      <td>0.0</td>\n",
       "      <td>0.0</td>\n",
       "      <td>1.0</td>\n",
       "      <td>1.0</td>\n",
       "      <td>0.0</td>\n",
       "      <td>0.0</td>\n",
       "      <td>1.0</td>\n",
       "      <td>0.0</td>\n",
       "      <td>23.46</td>\n",
       "      <td>0.012953</td>\n",
       "      <td>1.295337</td>\n",
       "      <td>0</td>\n",
       "    </tr>\n",
       "    <tr>\n",
       "      <th>4</th>\n",
       "      <td>1.0</td>\n",
       "      <td>1.0</td>\n",
       "      <td>0.0</td>\n",
       "      <td>0.0</td>\n",
       "      <td>0.0</td>\n",
       "      <td>1.0</td>\n",
       "      <td>1.0</td>\n",
       "      <td>0.0</td>\n",
       "      <td>0.0</td>\n",
       "      <td>0.0</td>\n",
       "      <td>1.0</td>\n",
       "      <td>1.0</td>\n",
       "      <td>0.0</td>\n",
       "      <td>1.0</td>\n",
       "      <td>0.0</td>\n",
       "      <td>1.0</td>\n",
       "      <td>1.0</td>\n",
       "      <td>0.0</td>\n",
       "      <td>0.0</td>\n",
       "      <td>1.0</td>\n",
       "      <td>1.0</td>\n",
       "      <td>1.0</td>\n",
       "      <td>1.0</td>\n",
       "      <td>0.0</td>\n",
       "      <td>0.0</td>\n",
       "      <td>0.0</td>\n",
       "      <td>0.0</td>\n",
       "      <td>1.0</td>\n",
       "      <td>0.0</td>\n",
       "      <td>0.0</td>\n",
       "      <td>0.0</td>\n",
       "      <td>1.0</td>\n",
       "      <td>1.0</td>\n",
       "      <td>0.0</td>\n",
       "      <td>0.0</td>\n",
       "      <td>0.0</td>\n",
       "      <td>0.0</td>\n",
       "      <td>0.0</td>\n",
       "      <td>0.0</td>\n",
       "      <td>0.0</td>\n",
       "      <td>0.0</td>\n",
       "      <td>0.0</td>\n",
       "      <td>0.0</td>\n",
       "      <td>1.0</td>\n",
       "      <td>1.0</td>\n",
       "      <td>0.0</td>\n",
       "      <td>0.0</td>\n",
       "      <td>1.0</td>\n",
       "      <td>1.0</td>\n",
       "      <td>1.0</td>\n",
       "      <td>0.0</td>\n",
       "      <td>1.0</td>\n",
       "      <td>0.0</td>\n",
       "      <td>0.0</td>\n",
       "      <td>1.0</td>\n",
       "      <td>0.0</td>\n",
       "      <td>0.0</td>\n",
       "      <td>0.0</td>\n",
       "      <td>0.0</td>\n",
       "      <td>1.0</td>\n",
       "      <td>1.0</td>\n",
       "      <td>0.0</td>\n",
       "      <td>1.0</td>\n",
       "      <td>0.0</td>\n",
       "      <td>0.0</td>\n",
       "      <td>0.0</td>\n",
       "      <td>0.0</td>\n",
       "      <td>0.0</td>\n",
       "      <td>0.0</td>\n",
       "      <td>0.0</td>\n",
       "      <td>0.0</td>\n",
       "      <td>1.0</td>\n",
       "      <td>1.0</td>\n",
       "      <td>0.0</td>\n",
       "      <td>0.0</td>\n",
       "      <td>0.0</td>\n",
       "      <td>0.0</td>\n",
       "      <td>0.0</td>\n",
       "      <td>0.0</td>\n",
       "      <td>1.0</td>\n",
       "      <td>0.0</td>\n",
       "      <td>0.0</td>\n",
       "      <td>0.0</td>\n",
       "      <td>0.0</td>\n",
       "      <td>0.0</td>\n",
       "      <td>0.0</td>\n",
       "      <td>0.0</td>\n",
       "      <td>0.0</td>\n",
       "      <td>0.0</td>\n",
       "      <td>0.0</td>\n",
       "      <td>0.0</td>\n",
       "      <td>0.0</td>\n",
       "      <td>0.0</td>\n",
       "      <td>0.0</td>\n",
       "      <td>0.0</td>\n",
       "      <td>0.0</td>\n",
       "      <td>0.0</td>\n",
       "      <td>0.0</td>\n",
       "      <td>0.0</td>\n",
       "      <td>0.0</td>\n",
       "      <td>0.0</td>\n",
       "      <td>1.0</td>\n",
       "      <td>1.0</td>\n",
       "      <td>0.0</td>\n",
       "      <td>0.0</td>\n",
       "      <td>0.0</td>\n",
       "      <td>1.0</td>\n",
       "      <td>0.0</td>\n",
       "      <td>1.0</td>\n",
       "      <td>0.0</td>\n",
       "      <td>0.0</td>\n",
       "      <td>0.0</td>\n",
       "      <td>0.0</td>\n",
       "      <td>1.0</td>\n",
       "      <td>1.0</td>\n",
       "      <td>0.0</td>\n",
       "      <td>0.0</td>\n",
       "      <td>1.0</td>\n",
       "      <td>0.0</td>\n",
       "      <td>0.0</td>\n",
       "      <td>23.07</td>\n",
       "      <td>-0.016624</td>\n",
       "      <td>-1.662404</td>\n",
       "      <td>1</td>\n",
       "    </tr>\n",
       "  </tbody>\n",
       "</table>\n",
       "</div>"
      ],
      "text/plain": [
       "    T1   T2   T3   T4   T5   T6   T7   T8   T9  T10  T11  T12  T13  T14  T15  \\\n",
       "0  0.0  0.0  0.0  0.0  1.0  1.0  0.0  0.0  0.0  1.0  1.0  0.0  0.0  0.0  1.0   \n",
       "1  0.0  0.0  0.0  1.0  1.0  0.0  0.0  0.0  1.0  1.0  0.0  0.0  0.0  1.0  1.0   \n",
       "2  0.0  0.0  1.0  1.0  0.0  0.0  0.0  1.0  1.0  0.0  0.0  0.0  1.0  1.0  0.0   \n",
       "3  0.0  1.0  1.0  0.0  0.0  0.0  1.0  1.0  0.0  0.0  0.0  1.0  1.0  0.0  1.0   \n",
       "4  1.0  1.0  0.0  0.0  0.0  1.0  1.0  0.0  0.0  0.0  1.0  1.0  0.0  1.0  0.0   \n",
       "\n",
       "   T16  T17  T18  T19  T20  T21  T22  T23  T24  T25  T26  T27  T28  T29  T30  \\\n",
       "0  1.0  0.0  1.0  0.0  1.0  1.0  0.0  0.0  1.0  1.0  1.0  1.0  0.0  0.0  0.0   \n",
       "1  0.0  1.0  0.0  1.0  1.0  0.0  0.0  1.0  1.0  1.0  1.0  0.0  0.0  0.0  0.0   \n",
       "2  1.0  0.0  1.0  1.0  0.0  0.0  1.0  1.0  1.0  1.0  0.0  0.0  0.0  0.0  1.0   \n",
       "3  0.0  1.0  1.0  0.0  0.0  1.0  1.0  1.0  1.0  0.0  0.0  0.0  0.0  1.0  0.0   \n",
       "4  1.0  1.0  0.0  0.0  1.0  1.0  1.0  1.0  0.0  0.0  0.0  0.0  1.0  0.0  0.0   \n",
       "\n",
       "   T31  T32  T33  T34  T35  T36  T37  T38  T39  T40  T41  T42  T43  T44  T45  \\\n",
       "0  0.0  1.0  0.0  0.0  0.0  1.0  1.0  0.0  0.0  0.0  0.0  0.0  0.0  0.0  0.0   \n",
       "1  1.0  0.0  0.0  0.0  1.0  1.0  0.0  0.0  0.0  0.0  0.0  0.0  0.0  0.0  0.0   \n",
       "2  0.0  0.0  0.0  1.0  1.0  0.0  0.0  0.0  0.0  0.0  0.0  0.0  0.0  0.0  0.0   \n",
       "3  0.0  0.0  1.0  1.0  0.0  0.0  0.0  0.0  0.0  0.0  0.0  0.0  0.0  0.0  1.0   \n",
       "4  0.0  1.0  1.0  0.0  0.0  0.0  0.0  0.0  0.0  0.0  0.0  0.0  0.0  1.0  1.0   \n",
       "\n",
       "   T46  T47  T48  T49  T50  T51  T52  T53  T54  T55  T56  T57  T58  T59  T60  \\\n",
       "0  0.0  0.0  1.0  1.0  0.0  0.0  1.0  1.0  1.0  0.0  1.0  0.0  0.0  1.0  0.0   \n",
       "1  0.0  1.0  1.0  0.0  0.0  1.0  1.0  1.0  0.0  1.0  0.0  0.0  1.0  0.0  0.0   \n",
       "2  1.0  1.0  0.0  0.0  1.0  1.0  1.0  0.0  1.0  0.0  0.0  1.0  0.0  0.0  0.0   \n",
       "3  1.0  0.0  0.0  1.0  1.0  1.0  0.0  1.0  0.0  0.0  1.0  0.0  0.0  0.0  0.0   \n",
       "4  0.0  0.0  1.0  1.0  1.0  0.0  1.0  0.0  0.0  1.0  0.0  0.0  0.0  0.0  1.0   \n",
       "\n",
       "   T61  T62  T63  T64  T65  T66  T67  T68  T69  T70  T71  T72  T73  T74  T75  \\\n",
       "0  0.0  0.0  0.0  1.0  1.0  0.0  1.0  0.0  0.0  0.0  0.0  0.0  0.0  0.0  0.0   \n",
       "1  0.0  0.0  1.0  1.0  0.0  1.0  0.0  0.0  0.0  0.0  0.0  0.0  0.0  0.0  1.0   \n",
       "2  0.0  1.0  1.0  0.0  1.0  0.0  0.0  0.0  0.0  0.0  0.0  0.0  0.0  1.0  1.0   \n",
       "3  1.0  1.0  0.0  1.0  0.0  0.0  0.0  0.0  0.0  0.0  0.0  0.0  1.0  1.0  0.0   \n",
       "4  1.0  0.0  1.0  0.0  0.0  0.0  0.0  0.0  0.0  0.0  0.0  1.0  1.0  0.0  0.0   \n",
       "\n",
       "   T76  T77  T78  T79  T80  T81  T82  T83  T84  T85  T86  T87  T88  T89  T90  \\\n",
       "0  1.0  1.0  0.0  0.0  0.0  0.0  0.0  0.0  1.0  0.0  0.0  0.0  0.0  0.0  0.0   \n",
       "1  1.0  0.0  0.0  0.0  0.0  0.0  0.0  1.0  0.0  0.0  0.0  0.0  0.0  0.0  0.0   \n",
       "2  0.0  0.0  0.0  0.0  0.0  0.0  1.0  0.0  0.0  0.0  0.0  0.0  0.0  0.0  0.0   \n",
       "3  0.0  0.0  0.0  0.0  0.0  1.0  0.0  0.0  0.0  0.0  0.0  0.0  0.0  0.0  0.0   \n",
       "4  0.0  0.0  0.0  0.0  1.0  0.0  0.0  0.0  0.0  0.0  0.0  0.0  0.0  0.0  0.0   \n",
       "\n",
       "   T91  T92  T93  T94  T95  T96  T97  T98  T99  T100  T101  T102  T103  T104  \\\n",
       "0  0.0  0.0  0.0  0.0  0.0  0.0  0.0  0.0  0.0   0.0   0.0   0.0   0.0   0.0   \n",
       "1  0.0  0.0  0.0  0.0  0.0  0.0  0.0  0.0  0.0   0.0   0.0   0.0   0.0   0.0   \n",
       "2  0.0  0.0  0.0  0.0  0.0  0.0  0.0  0.0  0.0   0.0   0.0   0.0   0.0   1.0   \n",
       "3  0.0  0.0  0.0  0.0  0.0  0.0  0.0  0.0  0.0   0.0   0.0   0.0   1.0   1.0   \n",
       "4  0.0  0.0  0.0  0.0  0.0  0.0  0.0  0.0  0.0   0.0   0.0   1.0   1.0   0.0   \n",
       "\n",
       "   T105  T106  T107  T108  T109  T110  T111  T112  T113  T114  T115  T116  \\\n",
       "0   0.0   1.0   1.0   0.0   0.0   0.0   1.0   0.0   1.0   0.0   0.0   0.0   \n",
       "1   1.0   1.0   0.0   0.0   0.0   1.0   0.0   1.0   0.0   0.0   0.0   0.0   \n",
       "2   1.0   0.0   0.0   0.0   1.0   0.0   1.0   0.0   0.0   0.0   0.0   1.0   \n",
       "3   0.0   0.0   0.0   1.0   0.0   1.0   0.0   0.0   0.0   0.0   1.0   1.0   \n",
       "4   0.0   0.0   1.0   0.0   1.0   0.0   0.0   0.0   0.0   1.0   1.0   0.0   \n",
       "\n",
       "   T117  T118  T119  T120  target  scaled_target  percentile_target  \\\n",
       "0   0.0   1.0   1.0   0.0   23.13      -0.005161          -0.516129   \n",
       "1   1.0   1.0   0.0   0.0   23.49       0.015564           1.556420   \n",
       "2   1.0   0.0   0.0   1.0   23.16      -0.014049          -1.404853   \n",
       "3   0.0   0.0   1.0   0.0   23.46       0.012953           1.295337   \n",
       "4   0.0   1.0   0.0   0.0   23.07      -0.016624          -1.662404   \n",
       "\n",
       "   categorical_target_change  \n",
       "0                          0  \n",
       "1                          1  \n",
       "2                          0  \n",
       "3                          0  \n",
       "4                          1  "
      ]
     },
     "execution_count": 35,
     "metadata": {},
     "output_type": "execute_result"
    }
   ],
   "source": [
    "data.head()"
   ]
  },
  {
   "cell_type": "markdown",
   "id": "37530bd5",
   "metadata": {},
   "source": [
    "# Create Train, Test, Valid"
   ]
  },
  {
   "cell_type": "code",
   "execution_count": 36,
   "id": "090b9710",
   "metadata": {},
   "outputs": [
    {
     "data": {
      "text/plain": [
       "0    0.784416\n",
       "1    0.215584\n",
       "Name: categorical_target_change, dtype: float64"
      ]
     },
     "execution_count": 36,
     "metadata": {},
     "output_type": "execute_result"
    }
   ],
   "source": [
    "data['categorical_target_change'].value_counts(normalize=True)"
   ]
  },
  {
   "cell_type": "code",
   "execution_count": 37,
   "id": "060d8838",
   "metadata": {},
   "outputs": [],
   "source": [
    "def create_train_valid_test(df,time_step,train_ratio=0.7,valid_ratio=0.15):\n",
    "    train_border = train_ratio\n",
    "    valid_border = train_border + valid_ratio\n",
    "    \n",
    "    X_train = df[['T{}'.format(t) for t in range(1,time_step +1,1) ]][:int(len(df)*train_border)].values\n",
    "    X_val = df[['T{}'.format(t) for t in range(1,time_step + 1,1) ]][int(len(df)*train_border):int(len(df)*valid_border)].values\n",
    "    X_test = df[['T{}'.format(t) for t in range(1,time_step + 1,1) ]][int(len(df)*valid_border):].values\n",
    "    \n",
    "    y_train = df['categorical_target_change'][:int(len(df)*train_border)]\n",
    "    y_val = df['categorical_target_change'][int(len(df)*train_border):int(len(df)*valid_border)]\n",
    "    y_test = df['categorical_target_change'][int(len(df)*valid_border):]\n",
    "    \n",
    "    print(f\"Train size = {len(X_train)}; Valid size = {len(X_val)}; Test size = {len(X_test)}\")\n",
    "    \n",
    "    return X_train, X_val, X_test, y_train, y_val, y_test\n",
    "    "
   ]
  },
  {
   "cell_type": "code",
   "execution_count": 38,
   "id": "c67f1f61",
   "metadata": {},
   "outputs": [
    {
     "name": "stdout",
     "output_type": "stream",
     "text": [
      "Train size = 13637; Valid size = 2922; Test size = 2923\n"
     ]
    }
   ],
   "source": [
    "X_train, X_val , X_test, y_train, y_val, y_test = create_train_valid_test(data, time_step)"
   ]
  },
  {
   "cell_type": "markdown",
   "id": "f950a534",
   "metadata": {},
   "source": [
    "# Create weights of classes inproportional to percentages"
   ]
  },
  {
   "cell_type": "code",
   "execution_count": 39,
   "id": "d8976321",
   "metadata": {},
   "outputs": [],
   "source": [
    "def create_weights(series):\n",
    "    print(\"Class Distributions are \")\n",
    "    print(series.value_counts(normalize=True))\n",
    "    weight_dict= {x[0]: 1/x[1]  for x in series.value_counts(normalize=True).to_dict().items()}\n",
    "    return weight_dict"
   ]
  },
  {
   "cell_type": "code",
   "execution_count": 40,
   "id": "19655b96",
   "metadata": {},
   "outputs": [
    {
     "name": "stdout",
     "output_type": "stream",
     "text": [
      "Class Distributions are \n",
      "0    0.786903\n",
      "1    0.213097\n",
      "Name: categorical_target_change, dtype: float64\n"
     ]
    }
   ],
   "source": [
    "weight_dict = create_weights(y_train)"
   ]
  },
  {
   "cell_type": "markdown",
   "id": "3e308e33",
   "metadata": {},
   "source": [
    "# Oversampling data"
   ]
  },
  {
   "cell_type": "code",
   "execution_count": 41,
   "id": "b632d271",
   "metadata": {},
   "outputs": [],
   "source": [
    "from imblearn.over_sampling import SMOTE\n",
    "def oversample_train(X,y):\n",
    "    X,y = shuffle(X,y,random_state=60)\n",
    "    smote = SMOTE(random_state=51)\n",
    "    X,y = smote.fit_resample(X,y)\n",
    "    print(X.shape,y.shape)\n",
    "    return X,y"
   ]
  },
  {
   "cell_type": "code",
   "execution_count": 42,
   "id": "b34cbd80",
   "metadata": {},
   "outputs": [],
   "source": [
    "#X_train, y_train = oversample_train(X_train, y_train)"
   ]
  },
  {
   "cell_type": "markdown",
   "id": "0f71b99a",
   "metadata": {},
   "source": [
    "# Dummifacation of Target"
   ]
  },
  {
   "cell_type": "code",
   "execution_count": 43,
   "id": "8a1d9896",
   "metadata": {},
   "outputs": [],
   "source": [
    "def dummify_y_columns(training_y,valid_y,test_y):\n",
    "    training_y = pd.get_dummies(training_y)\n",
    "    valid_y = pd.get_dummies(valid_y)\n",
    "    test_y = pd.get_dummies(test_y)\n",
    "    print(f\"Shapes after dummification in train, valid, test order = [{training_y.shape,valid_y.shape, test_y.shape}]\")\n",
    "    return training_y, valid_y, test_y"
   ]
  },
  {
   "cell_type": "code",
   "execution_count": 44,
   "id": "4681965b",
   "metadata": {},
   "outputs": [],
   "source": [
    "# y_train, y_val, y_test = dummify_y_columns(y_train, y_val, y_test)"
   ]
  },
  {
   "cell_type": "markdown",
   "id": "f8448297",
   "metadata": {},
   "source": [
    "# Resape Input for LSTM's"
   ]
  },
  {
   "cell_type": "code",
   "execution_count": 45,
   "id": "0c6ba8bb",
   "metadata": {},
   "outputs": [],
   "source": [
    "def reshape_input(training_X, valid_X, test_X, n_features):\n",
    "    training_X = training_X.reshape((training_X.shape[0], training_X.shape[1], n_features))\n",
    "    valid_X = valid_X.reshape((valid_X.shape[0], valid_X.shape[1], n_features))\n",
    "    test_X = test_X.reshape((test_X.shape[0], test_X.shape[1], n_features))\n",
    "    print(f\"Shapes after reshaping are in order [{training_X.shape},{valid_X.shape}, {test_X.shape}]\")\n",
    "    return training_X, valid_X, test_X"
   ]
  },
  {
   "cell_type": "code",
   "execution_count": 46,
   "id": "7fbb3d32",
   "metadata": {},
   "outputs": [
    {
     "name": "stdout",
     "output_type": "stream",
     "text": [
      "Shapes after reshaping are in order [(13637, 120, 1),(2922, 120, 1), (2923, 120, 1)]\n"
     ]
    }
   ],
   "source": [
    "X_train, X_val, X_test = reshape_input(X_train, X_val, X_test, n_features)"
   ]
  },
  {
   "cell_type": "markdown",
   "id": "448a58fa",
   "metadata": {},
   "source": [
    "# Shuffle Data"
   ]
  },
  {
   "cell_type": "code",
   "execution_count": 47,
   "id": "c5199353",
   "metadata": {},
   "outputs": [
    {
     "data": {
      "image/png": "[encoded data removed]",
      "text/plain": [
       "<Figure size 432x288 with 1 Axes>"
      ]
     },
     "metadata": {
      "needs_background": "light"
     },
     "output_type": "display_data"
    }
   ],
   "source": [
    "plt.plot(X_train[0])\n",
    "plt.show()"
   ]
  },
  {
   "cell_type": "code",
   "execution_count": 48,
   "id": "f513bb4a",
   "metadata": {},
   "outputs": [],
   "source": [
    "X_train, y_train = shuffle(X_train,y_train,random_state=60)"
   ]
  },
  {
   "cell_type": "code",
   "execution_count": 49,
   "id": "eace741e",
   "metadata": {},
   "outputs": [
    {
     "data": {
      "image/png": "[encoded data removed]",
      "text/plain": [
       "<Figure size 432x288 with 1 Axes>"
      ]
     },
     "metadata": {
      "needs_background": "light"
     },
     "output_type": "display_data"
    }
   ],
   "source": [
    "plt.plot(X_train[0])\n",
    "plt.show()"
   ]
  },
  {
   "cell_type": "markdown",
   "id": "11aec378",
   "metadata": {},
   "source": [
    "# Fill Input with noise"
   ]
  },
  {
   "cell_type": "code",
   "execution_count": 50,
   "id": "15e29cde",
   "metadata": {},
   "outputs": [],
   "source": [
    "def fill_input_with_noise(training_X):\n",
    "    training_X = np.random.rand(training_X.shape[0],training_X.shape[1],training_X.shape[2])\n",
    "    return training_X"
   ]
  },
  {
   "cell_type": "code",
   "execution_count": 51,
   "id": "84b823cf",
   "metadata": {},
   "outputs": [],
   "source": [
    "#X_train = fill_input_with_noise(X_train)"
   ]
  },
  {
   "cell_type": "markdown",
   "id": "16983430",
   "metadata": {},
   "source": [
    "# Defining model"
   ]
  },
  {
   "cell_type": "code",
   "execution_count": 52,
   "id": "22ae176d",
   "metadata": {},
   "outputs": [],
   "source": [
    "reduce_lr = ReduceLROnPlateau( monitor='val_loss', factor=0.05, patience=5 )"
   ]
  },
  {
   "cell_type": "code",
   "execution_count": 53,
   "id": "6fc2bc64",
   "metadata": {},
   "outputs": [],
   "source": [
    "def create_LSTM_model(time_step, n_features):\n",
    "    tf.keras.backend.clear_session()\n",
    "    model = Sequential()\n",
    "    model = Sequential()\n",
    "    model.add(GRU(256, activation='tanh', input_shape=(time_step, n_features)))\n",
    "    model.add(Dropout(0.2))\n",
    "    model.add(Dense(128,activation='relu'))\n",
    "    model.add(Dropout(0.2))\n",
    "    model.add(Dense(1,activation='sigmoid'))\n",
    "    model.compile(loss=tf.keras.losses.BinaryCrossentropy(), optimizer=Adam(learning_rate=1e-4), metrics=[tf.keras.metrics.AUC(),'accuracy'])\n",
    "    return model"
   ]
  },
  {
   "cell_type": "code",
   "execution_count": 54,
   "id": "d138f3b6",
   "metadata": {},
   "outputs": [
    {
     "name": "stderr",
     "output_type": "stream",
     "text": [
      "2022-09-09 18:17:57.194866: I tensorflow/stream_executor/cuda/cuda_gpu_executor.cc:936] successful NUMA node read from SysFS had negative value (-1), but there must be at least one NUMA node, so returning NUMA node zero\n",
      "2022-09-09 18:17:57.251904: I tensorflow/stream_executor/cuda/cuda_gpu_executor.cc:936] successful NUMA node read from SysFS had negative value (-1), but there must be at least one NUMA node, so returning NUMA node zero\n",
      "2022-09-09 18:17:57.252248: I tensorflow/stream_executor/cuda/cuda_gpu_executor.cc:936] successful NUMA node read from SysFS had negative value (-1), but there must be at least one NUMA node, so returning NUMA node zero\n",
      "2022-09-09 18:17:57.253737: I tensorflow/core/platform/cpu_feature_guard.cc:151] This TensorFlow binary is optimized with oneAPI Deep Neural Network Library (oneDNN) to use the following CPU instructions in performance-critical operations:  AVX2 FMA\n",
      "To enable them in other operations, rebuild TensorFlow with the appropriate compiler flags.\n",
      "2022-09-09 18:17:57.254343: I tensorflow/stream_executor/cuda/cuda_gpu_executor.cc:936] successful NUMA node read from SysFS had negative value (-1), but there must be at least one NUMA node, so returning NUMA node zero\n",
      "2022-09-09 18:17:57.254501: I tensorflow/stream_executor/cuda/cuda_gpu_executor.cc:936] successful NUMA node read from SysFS had negative value (-1), but there must be at least one NUMA node, so returning NUMA node zero\n",
      "2022-09-09 18:17:57.254614: I tensorflow/stream_executor/cuda/cuda_gpu_executor.cc:936] successful NUMA node read from SysFS had negative value (-1), but there must be at least one NUMA node, so returning NUMA node zero\n",
      "2022-09-09 18:17:57.986854: I tensorflow/stream_executor/cuda/cuda_gpu_executor.cc:936] successful NUMA node read from SysFS had negative value (-1), but there must be at least one NUMA node, so returning NUMA node zero\n",
      "2022-09-09 18:17:57.987038: I tensorflow/stream_executor/cuda/cuda_gpu_executor.cc:936] successful NUMA node read from SysFS had negative value (-1), but there must be at least one NUMA node, so returning NUMA node zero\n",
      "2022-09-09 18:17:57.987163: I tensorflow/stream_executor/cuda/cuda_gpu_executor.cc:936] successful NUMA node read from SysFS had negative value (-1), but there must be at least one NUMA node, so returning NUMA node zero\n",
      "2022-09-09 18:17:57.987244: W tensorflow/core/common_runtime/gpu/gpu_bfc_allocator.cc:39] Overriding allow_growth setting because the TF_FORCE_GPU_ALLOW_GROWTH environment variable is set. Original config value was 0.\n",
      "2022-09-09 18:17:57.987652: I tensorflow/core/common_runtime/gpu/gpu_device.cc:1525] Created device /job:localhost/replica:0/task:0/device:GPU:0 with 2735 MB memory:  -> device: 0, name: NVIDIA GeForce GTX 1050, pci bus id: 0000:01:00.0, compute capability: 6.1\n"
     ]
    }
   ],
   "source": [
    "model = create_LSTM_model(time_step, n_features)"
   ]
  },
  {
   "cell_type": "code",
   "execution_count": 55,
   "id": "90ca11e3",
   "metadata": {},
   "outputs": [],
   "source": [
    "def create_MLP_model(X_train):\n",
    "    tf.keras.backend.clear_session()\n",
    "    model = Sequential()\n",
    "    model.add(Dense(1024,activation='relu',input_shape = (X_train.shape[1],)))\n",
    "    model.add(Dense(1024,activation='relu'))\n",
    "    model.add(Dense(1024,activation='relu'))\n",
    "    model.add(Dense(3,activation='softmax'))\n",
    "    model.compile(loss='binary_crossentropy', optimizer=Adam(learning_rate=0.0001), metrics=['accuracy',tf.keras.metrics.AUC()])\n",
    "    return model"
   ]
  },
  {
   "cell_type": "code",
   "execution_count": 56,
   "id": "39d5e897",
   "metadata": {},
   "outputs": [],
   "source": [
    "# model = create_MLP_model()"
   ]
  },
  {
   "cell_type": "code",
   "execution_count": 57,
   "id": "b3dcd848",
   "metadata": {},
   "outputs": [
    {
     "name": "stdout",
     "output_type": "stream",
     "text": [
      "Model: \"sequential_1\"\n",
      "_________________________________________________________________\n",
      " Layer (type)                Output Shape              Param #   \n",
      "=================================================================\n",
      " gru (GRU)                   (None, 256)               198912    \n",
      "                                                                 \n",
      " dropout (Dropout)           (None, 256)               0         \n",
      "                                                                 \n",
      " dense (Dense)               (None, 128)               32896     \n",
      "                                                                 \n",
      " dropout_1 (Dropout)         (None, 128)               0         \n",
      "                                                                 \n",
      " dense_1 (Dense)             (None, 1)                 129       \n",
      "                                                                 \n",
      "=================================================================\n",
      "Total params: 231,937\n",
      "Trainable params: 231,937\n",
      "Non-trainable params: 0\n",
      "_________________________________________________________________\n"
     ]
    }
   ],
   "source": [
    "model.summary()"
   ]
  },
  {
   "cell_type": "code",
   "execution_count": 58,
   "id": "cefbb1e0",
   "metadata": {},
   "outputs": [
    {
     "name": "stdout",
     "output_type": "stream",
     "text": [
      "Epoch 1/15\n"
     ]
    },
    {
     "name": "stderr",
     "output_type": "stream",
     "text": [
      "2022-09-09 18:18:02.825446: I tensorflow/stream_executor/cuda/cuda_dnn.cc:368] Loaded cuDNN version 8400\n"
     ]
    },
    {
     "name": "stdout",
     "output_type": "stream",
     "text": [
      "1705/1705 [==============================] - 19s 10ms/step - loss: 0.4560 - auc: 0.7426 - accuracy: 0.7968 - val_loss: 0.4323 - val_auc: 0.6776 - val_accuracy: 0.8244 - lr: 1.0000e-04\n",
      "Epoch 2/15\n",
      "1705/1705 [==============================] - 17s 10ms/step - loss: 0.4381 - auc: 0.7690 - accuracy: 0.8006 - val_loss: 0.4343 - val_auc: 0.6787 - val_accuracy: 0.8248 - lr: 1.0000e-04\n",
      "Epoch 3/15\n",
      "1705/1705 [==============================] - 17s 10ms/step - loss: 0.4372 - auc: 0.7706 - accuracy: 0.8005 - val_loss: 0.4442 - val_auc: 0.6753 - val_accuracy: 0.8203 - lr: 1.0000e-04\n",
      "Epoch 4/15\n",
      "1705/1705 [==============================] - 16s 9ms/step - loss: 0.4364 - auc: 0.7724 - accuracy: 0.8008 - val_loss: 0.4358 - val_auc: 0.6756 - val_accuracy: 0.8258 - lr: 1.0000e-04\n",
      "Epoch 5/15\n",
      "1705/1705 [==============================] - 17s 10ms/step - loss: 0.4368 - auc: 0.7702 - accuracy: 0.8030 - val_loss: 0.4331 - val_auc: 0.6780 - val_accuracy: 0.8251 - lr: 1.0000e-04\n",
      "Epoch 6/15\n",
      "1705/1705 [==============================] - 17s 10ms/step - loss: 0.4354 - auc: 0.7728 - accuracy: 0.8032 - val_loss: 0.4329 - val_auc: 0.6815 - val_accuracy: 0.8258 - lr: 1.0000e-04\n",
      "Epoch 7/15\n",
      "1705/1705 [==============================] - 18s 11ms/step - loss: 0.4306 - auc: 0.7808 - accuracy: 0.8028 - val_loss: 0.4331 - val_auc: 0.6831 - val_accuracy: 0.8265 - lr: 5.0000e-06\n",
      "Epoch 8/15\n",
      "1705/1705 [==============================] - 18s 11ms/step - loss: 0.4307 - auc: 0.7803 - accuracy: 0.8039 - val_loss: 0.4323 - val_auc: 0.6836 - val_accuracy: 0.8272 - lr: 5.0000e-06\n",
      "Epoch 9/15\n",
      "1705/1705 [==============================] - 18s 11ms/step - loss: 0.4308 - auc: 0.7805 - accuracy: 0.8033 - val_loss: 0.4322 - val_auc: 0.6846 - val_accuracy: 0.8265 - lr: 5.0000e-06\n",
      "Epoch 10/15\n",
      "1705/1705 [==============================] - 18s 11ms/step - loss: 0.4307 - auc: 0.7805 - accuracy: 0.8052 - val_loss: 0.4320 - val_auc: 0.6842 - val_accuracy: 0.8272 - lr: 5.0000e-06\n",
      "Epoch 11/15\n",
      "1705/1705 [==============================] - 18s 11ms/step - loss: 0.4306 - auc: 0.7804 - accuracy: 0.8044 - val_loss: 0.4320 - val_auc: 0.6858 - val_accuracy: 0.8261 - lr: 5.0000e-06\n",
      "Epoch 12/15\n",
      "1705/1705 [==============================] - 18s 11ms/step - loss: 0.4311 - auc: 0.7795 - accuracy: 0.8031 - val_loss: 0.4325 - val_auc: 0.6853 - val_accuracy: 0.8255 - lr: 5.0000e-06\n",
      "Epoch 13/15\n",
      "1705/1705 [==============================] - 18s 11ms/step - loss: 0.4309 - auc: 0.7798 - accuracy: 0.8034 - val_loss: 0.4315 - val_auc: 0.6850 - val_accuracy: 0.8261 - lr: 5.0000e-06\n",
      "Epoch 14/15\n",
      "1705/1705 [==============================] - 18s 11ms/step - loss: 0.4302 - auc: 0.7808 - accuracy: 0.8041 - val_loss: 0.4322 - val_auc: 0.6861 - val_accuracy: 0.8248 - lr: 5.0000e-06\n",
      "Epoch 15/15\n",
      "1705/1705 [==============================] - 18s 11ms/step - loss: 0.4306 - auc: 0.7801 - accuracy: 0.8041 - val_loss: 0.4316 - val_auc: 0.6859 - val_accuracy: 0.8255 - lr: 5.0000e-06\n"
     ]
    },
    {
     "data": {
      "text/plain": [
       "<keras.callbacks.History at 0x7fd464204940>"
      ]
     },
     "execution_count": 58,
     "metadata": {},
     "output_type": "execute_result"
    }
   ],
   "source": [
    "model.fit(X_train, y_train, epochs =15 , validation_data = (X_val,y_val) ,batch_size = 8, callbacks=[reduce_lr])"
   ]
  },
  {
   "cell_type": "code",
   "execution_count": 59,
   "id": "395865ed",
   "metadata": {},
   "outputs": [],
   "source": [
    "model.save('model.h5')"
   ]
  },
  {
   "cell_type": "markdown",
   "id": "44418d37",
   "metadata": {},
   "source": [
    "# Train"
   ]
  },
  {
   "cell_type": "code",
   "execution_count": 60,
   "id": "29b46e7b",
   "metadata": {},
   "outputs": [],
   "source": [
    "y_train_predicted = model.predict(X_train)[:,0]"
   ]
  },
  {
   "cell_type": "code",
   "execution_count": 61,
   "id": "c3cf3f07",
   "metadata": {},
   "outputs": [],
   "source": [
    "def plot_prediction_and_auc(predictions,true_values):\n",
    "    plt.hist(predictions,bins=50, label = \"Class 0\")\n",
    "    plt.legend()\n",
    "    plt.show()\n",
    "    \n",
    "    print(\"AUC = {}\".format(roc_auc_score(true_values,predictions)))\n",
    "    \n",
    "    fpr, tpr, _ = roc_curve(true_values,  predictions)\n",
    "    auc = roc_auc_score(true_values, predictions)\n",
    "    plt.plot(fpr,tpr,label=\"train, auc=\"+str(auc))\n",
    "    plt.plot([0,1],[0,1])\n",
    "    plt.legend(loc=4)\n",
    "    plt.show()"
   ]
  },
  {
   "cell_type": "code",
   "execution_count": 62,
   "id": "767036c4",
   "metadata": {},
   "outputs": [
    {
     "data": {
      "image/png": "[encoded data removed]",
      "text/plain": [
       "<Figure size 432x288 with 1 Axes>"
      ]
     },
     "metadata": {
      "needs_background": "light"
     },
     "output_type": "display_data"
    },
    {
     "name": "stdout",
     "output_type": "stream",
     "text": [
      "AUC = 0.7831345890042184\n"
     ]
    },
    {
     "data": {
      "image/png": "[encoded data removed]",
      "text/plain": [
       "<Figure size 432x288 with 1 Axes>"
      ]
     },
     "metadata": {
      "needs_background": "light"
     },
     "output_type": "display_data"
    }
   ],
   "source": [
    "plot_prediction_and_auc(y_train_predicted,y_train)"
   ]
  },
  {
   "cell_type": "markdown",
   "id": "263c8065",
   "metadata": {},
   "source": [
    "# Val"
   ]
  },
  {
   "cell_type": "code",
   "execution_count": 63,
   "id": "1a1462c0",
   "metadata": {},
   "outputs": [],
   "source": [
    "y_val_predicted = model.predict(X_val)[:,0]"
   ]
  },
  {
   "cell_type": "code",
   "execution_count": 64,
   "id": "14d13c49",
   "metadata": {},
   "outputs": [
    {
     "data": {
      "image/png": "[encoded data removed]",
      "text/plain": [
       "<Figure size 432x288 with 1 Axes>"
      ]
     },
     "metadata": {
      "needs_background": "light"
     },
     "output_type": "display_data"
    },
    {
     "name": "stdout",
     "output_type": "stream",
     "text": [
      "AUC = 0.6854619338439379\n"
     ]
    },
    {
     "data": {
      "image/png": "[encoded data removed]",
      "text/plain": [
       "<Figure size 432x288 with 1 Axes>"
      ]
     },
     "metadata": {
      "needs_background": "light"
     },
     "output_type": "display_data"
    }
   ],
   "source": [
    "plot_prediction_and_auc(y_val_predicted,y_val)"
   ]
  },
  {
   "cell_type": "code",
   "execution_count": 65,
   "id": "49b17bb7",
   "metadata": {},
   "outputs": [],
   "source": [
    "def plot_precision_recall_f1(preds,truth):\n",
    "    f1_list = []\n",
    "    precision_list = []\n",
    "    recall_list = []\n",
    "    for i in np.arange(0.01,1.0,0.01):\n",
    "        preds_converted = (preds >= i)*1\n",
    "        \n",
    "        f1_list.append( f1_score(truth,preds_converted) )\n",
    "        precision_list.append( precision_score(truth,preds_converted,zero_division=0) )\n",
    "        recall_list.append( recall_score(truth,preds_converted) )\n",
    "    \n",
    "    stats_data = pd.concat( [pd.Series(f1_list,name='f1'),pd.Series(precision_list,name='precision'),pd.Series(recall_list,name='recall')] , axis=1 )\n",
    "    stats_data.index = np.arange(0.01,1.0,0.01)\n",
    "    \n",
    "    plt.plot(stats_data['f1'],label='f1')\n",
    "    plt.plot(stats_data['precision'],label='precision')\n",
    "    plt.plot(stats_data['recall'],label='recall')\n",
    "    plt.xlabel('threshold')\n",
    "    plt.ylabel('score')\n",
    "    plt.legend()\n",
    "    plt.show()"
   ]
  },
  {
   "cell_type": "code",
   "execution_count": 66,
   "id": "710ce551",
   "metadata": {},
   "outputs": [
    {
     "data": {
      "image/png": "[encoded data removed]",
      "text/plain": [
       "<Figure size 432x288 with 1 Axes>"
      ]
     },
     "metadata": {
      "needs_background": "light"
     },
     "output_type": "display_data"
    }
   ],
   "source": [
    "plot_precision_recall_f1(y_val_predicted,y_val)"
   ]
  },
  {
   "cell_type": "code",
   "execution_count": 67,
   "id": "c28c254f",
   "metadata": {},
   "outputs": [
    {
     "data": {
      "image/png": "[encoded data removed]",
      "text/plain": [
       "<Figure size 432x288 with 2 Axes>"
      ]
     },
     "metadata": {},
     "output_type": "display_data"
    }
   ],
   "source": [
    "y_val_predicted_class = (y_val_predicted > 0.40) * 1\n",
    "\n",
    "val_cm = confusion_matrix(y_val,y_val_predicted_class)\n",
    "\n",
    "df_cm = pd.DataFrame(val_cm, range(2), range(2))\n",
    "# plt.figure(figsize=(10,7))\n",
    "sns.set(font_scale=1.4) # for label size\n",
    "sns.heatmap(df_cm, annot=True, annot_kws={\"size\": 16},fmt='g') # font size\n",
    "plt.xlabel('pred')\n",
    "plt.ylabel('truth')\n",
    "plt.show()"
   ]
  },
  {
   "cell_type": "markdown",
   "id": "30c295a2",
   "metadata": {},
   "source": [
    "# Test"
   ]
  },
  {
   "cell_type": "code",
   "execution_count": 68,
   "id": "d241f8d0",
   "metadata": {},
   "outputs": [],
   "source": [
    "y_test_predicted = model.predict(X_test)"
   ]
  },
  {
   "cell_type": "code",
   "execution_count": 69,
   "id": "877e341c",
   "metadata": {},
   "outputs": [
    {
     "data": {
      "image/png": "[encoded data removed]",
      "text/plain": [
       "<Figure size 432x288 with 1 Axes>"
      ]
     },
     "metadata": {},
     "output_type": "display_data"
    },
    {
     "name": "stdout",
     "output_type": "stream",
     "text": [
      "AUC = 0.6648728200056009\n"
     ]
    },
    {
     "data": {
      "image/png": "[encoded data removed]",
      "text/plain": [
       "<Figure size 432x288 with 1 Axes>"
      ]
     },
     "metadata": {},
     "output_type": "display_data"
    }
   ],
   "source": [
    "plot_prediction_and_auc(y_test_predicted[:,0],y_test)"
   ]
  },
  {
   "cell_type": "code",
   "execution_count": 70,
   "id": "cc316ef3",
   "metadata": {},
   "outputs": [
    {
     "data": {
      "image/png": "[encoded data removed]",
      "text/plain": [
       "<Figure size 432x288 with 1 Axes>"
      ]
     },
     "metadata": {},
     "output_type": "display_data"
    }
   ],
   "source": [
    "plot_precision_recall_f1(y_test_predicted,y_test)"
   ]
  },
  {
   "cell_type": "code",
   "execution_count": 71,
   "id": "14874f55",
   "metadata": {},
   "outputs": [
    {
     "data": {
      "image/png": "[encoded data removed]",
      "text/plain": [
       "<Figure size 432x288 with 2 Axes>"
      ]
     },
     "metadata": {},
     "output_type": "display_data"
    }
   ],
   "source": [
    "y_test_predicted_class = (y_test_predicted > 0.40) * 1\n",
    "\n",
    "val_test = confusion_matrix(y_test,y_test_predicted_class)\n",
    "\n",
    "df_cm = pd.DataFrame(val_test, range(2), range(2))\n",
    "# plt.figure(figsize=(10,7))\n",
    "sns.set(font_scale=1.4) # for label size\n",
    "sns.heatmap(df_cm, annot=True, annot_kws={\"size\": 16},fmt='g') # font size\n",
    "plt.xlabel('pred')\n",
    "plt.ylabel('truth')\n",
    "plt.show()"
   ]
  },
  {
   "cell_type": "code",
   "execution_count": 72,
   "id": "ede3090d",
   "metadata": {},
   "outputs": [
    {
     "data": {
      "text/plain": [
       "True"
      ]
     },
     "execution_count": 72,
     "metadata": {},
     "output_type": "execute_result"
    }
   ],
   "source": [
    "data.shape[0] == X_train.shape[0] + X_val.shape[0] + X_test.shape[0]"
   ]
  },
  {
   "cell_type": "code",
   "execution_count": null,
   "id": "bf6a5c2a",
   "metadata": {},
   "outputs": [],
   "source": []
  }
 ],
 "metadata": {
  "kernelspec": {
   "display_name": "Python 3 (ipykernel)",
   "language": "python",
   "name": "python3"
  },
  "language_info": {
   "codemirror_mode": {
    "name": "ipython",
    "version": 3
   },
   "file_extension": ".py",
   "mimetype": "text/x-python",
   "name": "python",
   "nbconvert_exporter": "python",
   "pygments_lexer": "ipython3",
   "version": "3.8.10"
  }
 },
 "nbformat": 4,
 "nbformat_minor": 5
}
