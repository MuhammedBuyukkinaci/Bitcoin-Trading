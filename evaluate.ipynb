{
 "cells": [
  {
   "cell_type": "code",
   "execution_count": 1,
   "id": "629fb3d8",
   "metadata": {},
   "outputs": [],
   "source": [
    "import pandas as pd\n",
    "import numpy as np\n",
    "import matplotlib.pyplot as plt\n",
    "import os\n",
    "import sys\n",
    "import gc\n",
    "from tqdm import tqdm\n",
    "import time\n",
    "from datetime import datetime\n",
    "import datetime as dt\n",
    "from sklearn.metrics import confusion_matrix,f1_score,precision_score,recall_score,roc_auc_score,roc_curve\n",
    "import random\n",
    "import seaborn as sns\n",
    "from sklearn.utils import shuffle\n",
    "from sklearn.metrics import precision_score, recall_score,f1_score\n",
    "from tensorflow.keras.callbacks import ReduceLROnPlateau\n",
    "from sklearn.preprocessing import StandardScaler\n",
    "from tensorflow.keras.layers import Dense, LSTM, Dropout,GRU,LeakyReLU, BatchNormalization\n",
    "from tensorflow.keras.models import Model,Sequential\n",
    "from tensorflow.keras.optimizers import Adam, RMSprop\n",
    "import tensorflow as tf"
   ]
  },
  {
   "cell_type": "code",
   "execution_count": 2,
   "id": "2cd93395",
   "metadata": {},
   "outputs": [],
   "source": [
    "change_ratio = 1.5"
   ]
  },
  {
   "cell_type": "code",
   "execution_count": 3,
   "id": "c421c360",
   "metadata": {},
   "outputs": [],
   "source": [
    "TRAIN_OR_INFERENCE = 'INFERENCE'"
   ]
  },
  {
   "cell_type": "code",
   "execution_count": 4,
   "id": "b5fece0a",
   "metadata": {},
   "outputs": [],
   "source": [
    "pd.set_option('display.max_rows', 500)\n",
    "pd.set_option('display.max_columns', 500)\n",
    "tqdm.pandas()"
   ]
  },
  {
   "cell_type": "code",
   "execution_count": 5,
   "id": "b5f8890f",
   "metadata": {},
   "outputs": [],
   "source": [
    "def seed_everything(seed=51):\n",
    "    random.seed(seed)\n",
    "    os.environ['PYTHONHASHSEED'] = str(seed)\n",
    "    np.random.seed(seed)\n",
    "    tf.random.set_seed(seed)"
   ]
  },
  {
   "cell_type": "code",
   "execution_count": 6,
   "id": "e165926e",
   "metadata": {},
   "outputs": [],
   "source": [
    "os.environ[\"TF_FORCE_GPU_ALLOW_GROWTH\"]=\"true\""
   ]
  },
  {
   "cell_type": "code",
   "execution_count": 7,
   "id": "620a163a",
   "metadata": {},
   "outputs": [],
   "source": [
    "seed_everything(seed=51)"
   ]
  },
  {
   "cell_type": "code",
   "execution_count": 8,
   "id": "460f1458",
   "metadata": {},
   "outputs": [],
   "source": [
    "def timer_decorator(function_to_call):\n",
    "    def wrapper(*args,**kwargs):\n",
    "        time_before = datetime.now()\n",
    "        value_to_return =  function_to_call(*args,**kwargs)\n",
    "        time_after = datetime.now()\n",
    "        print(f\"data elapsed = {time_after - time_before}\")\n",
    "        return value_to_return\n",
    "    return wrapper"
   ]
  },
  {
   "cell_type": "code",
   "execution_count": 9,
   "id": "4cf882e3",
   "metadata": {},
   "outputs": [],
   "source": [
    "@timer_decorator\n",
    "def read_data(path):\n",
    "    df = pd.read_csv(path)\n",
    "    print(\"========\")\n",
    "    print(f\"Shape of data = {df.shape}\")\n",
    "    print(\"========\")\n",
    "    print(\"Column types are:\")\n",
    "    print(df.dtypes)\n",
    "    print(\"========\")\n",
    "    print(\"Take a glance at data\")\n",
    "    print(pd.concat([df.head(),df.tail()],axis=0))\n",
    "    print(\"========\")\n",
    "    return df"
   ]
  },
  {
   "cell_type": "code",
   "execution_count": 10,
   "id": "f00a9658",
   "metadata": {},
   "outputs": [
    {
     "name": "stdout",
     "output_type": "stream",
     "text": [
      "========\n",
      "Shape of data = (20324, 4)\n",
      "========\n",
      "Column types are:\n",
      "btc_usdt         float64\n",
      "eth_usdt         float64\n",
      "eth_btc          float64\n",
      "date_inserted     object\n",
      "dtype: object\n",
      "========\n",
      "Take a glance at data\n",
      "       btc_usdt  eth_usdt   eth_btc                  date_inserted\n",
      "0      41547.36   3027.75  0.072876         2022-02-05 11:15:00+00\n",
      "1      41506.98   3016.68  0.072681         2022-02-05 11:30:00+00\n",
      "2      41454.42   3013.82  0.072698         2022-02-05 11:45:00+00\n",
      "3      41507.00   3017.88  0.072706         2022-02-05 12:00:00+00\n",
      "4      41564.07   3025.37  0.072788         2022-02-05 12:15:00+00\n",
      "20319  19853.83   1576.59  0.079416  2022-09-05 03:00:03.025531+00\n",
      "20320  19826.88   1571.68  0.079266  2022-09-05 03:15:02.425636+00\n",
      "20321  19870.36   1575.83  0.079307   2022-09-05 03:30:04.17334+00\n",
      "20322  19890.91   1576.87  0.079273   2022-09-05 03:45:04.11144+00\n",
      "20323  19889.51   1576.16  0.079239  2022-09-05 04:00:02.486639+00\n",
      "========\n",
      "data elapsed = 0:00:00.035362\n"
     ]
    }
   ],
   "source": [
    "data = read_data('data_evaluate.csv')"
   ]
  },
  {
   "cell_type": "code",
   "execution_count": 11,
   "id": "df4a3ff5",
   "metadata": {},
   "outputs": [],
   "source": [
    "data = data[['date_inserted','btc_usdt']]\n",
    "data.columns = ['time','open']"
   ]
  },
  {
   "cell_type": "code",
   "execution_count": 12,
   "id": "ce26d91f",
   "metadata": {},
   "outputs": [],
   "source": [
    "def copy_data(df):\n",
    "    return df.copy()"
   ]
  },
  {
   "cell_type": "code",
   "execution_count": 13,
   "id": "9107e2f9",
   "metadata": {},
   "outputs": [],
   "source": [
    "@timer_decorator\n",
    "def create_date_columns(df):\n",
    "    df['time'] = pd.to_datetime(df['time'])\n",
    "    df['year'] = df['time'].dt.year\n",
    "    df['month'] = df['time'].dt.month\n",
    "    df['day'] = df['time'].dt.day\n",
    "    df['hour'] = df['time'].dt.hour\n",
    "    df['minute'] = df['time'].dt.minute\n",
    "    return df"
   ]
  },
  {
   "cell_type": "code",
   "execution_count": 14,
   "id": "40f3db3c",
   "metadata": {},
   "outputs": [],
   "source": [
    "#data = create_date_columns(data)"
   ]
  },
  {
   "cell_type": "code",
   "execution_count": 15,
   "id": "0f7911b6",
   "metadata": {},
   "outputs": [],
   "source": [
    "@timer_decorator\n",
    "def filter_data(df,drop_years, hour_to_keep, minute_to_keep):\n",
    "    filter_ = (~df['year'].isin(drop_years)) & (df['hour'] % hour_to_keep == 0) & (df['minute'] == 0)\n",
    "    return df[filter_]"
   ]
  },
  {
   "cell_type": "code",
   "execution_count": 16,
   "id": "19dd4fcd",
   "metadata": {},
   "outputs": [],
   "source": [
    "#data = filter_data(data,[2012],4,0)"
   ]
  },
  {
   "cell_type": "markdown",
   "id": "828a537b",
   "metadata": {},
   "source": [
    "# Set Parameters"
   ]
  },
  {
   "cell_type": "code",
   "execution_count": 17,
   "id": "b884b2b1",
   "metadata": {},
   "outputs": [],
   "source": [
    "time_step = 120\n",
    "next_period = 1\n",
    "n_features = 1"
   ]
  },
  {
   "cell_type": "code",
   "execution_count": 18,
   "id": "ddda0f53",
   "metadata": {},
   "outputs": [],
   "source": [
    "@timer_decorator\n",
    "def create_train_data(df,time_step,next_period):\n",
    "    arr = np.array(df['open'])\n",
    "    input_data = []\n",
    "    target_data = []\n",
    "    for i in tqdm(range(len(arr) - time_step)):\n",
    "        input_data.append(arr[i:i+time_step])\n",
    "        target_data.append(arr[i+time_step])\n",
    "    input_data = np.asarray(input_data)\n",
    "    target_data = np.asarray(target_data)\n",
    "    mydata = pd.DataFrame(input_data,columns = ['T{}'.format(i) for i in range(1,time_step + 1,1)])\n",
    "    mydata['target'] = target_data\n",
    "    \n",
    "    print(f\"Training data size =  {mydata.shape}\")\n",
    "    \n",
    "    return mydata"
   ]
  },
  {
   "cell_type": "code",
   "execution_count": 19,
   "id": "7e6fafa5",
   "metadata": {},
   "outputs": [],
   "source": [
    "#data = create_train_data(data,time_step,next_period)"
   ]
  },
  {
   "cell_type": "code",
   "execution_count": 20,
   "id": "d8b2bd81",
   "metadata": {},
   "outputs": [],
   "source": [
    "def label_maker(x):\n",
    "    if x <= -1.5:\n",
    "        return 0\n",
    "    elif (-1.5 < x) & (x <= 1.5):\n",
    "        return 1\n",
    "    elif 1.5 < x :\n",
    "        return 2\n",
    "    else:\n",
    "        pass"
   ]
  },
  {
   "cell_type": "code",
   "execution_count": 21,
   "id": "e58179c0",
   "metadata": {},
   "outputs": [],
   "source": [
    "@timer_decorator\n",
    "def create_label(df):\n",
    "    df['scaled_target'] = (df.iloc[:,-1] - df.iloc[:,-2]) / df.iloc[:,-2]\n",
    "    df['percentile_target'] = df['scaled_target']*100\n",
    "    df['categorical_target_change'] = (df['percentile_target'].abs() > change_ratio) *1\n",
    "    return df"
   ]
  },
  {
   "cell_type": "code",
   "execution_count": 22,
   "id": "130285a5",
   "metadata": {},
   "outputs": [],
   "source": [
    "#data = create_label(data)"
   ]
  },
  {
   "cell_type": "code",
   "execution_count": 23,
   "id": "ac583867",
   "metadata": {},
   "outputs": [
    {
     "data": {
      "text/html": [
       "<div>\n",
       "<style scoped>\n",
       "    .dataframe tbody tr th:only-of-type {\n",
       "        vertical-align: middle;\n",
       "    }\n",
       "\n",
       "    .dataframe tbody tr th {\n",
       "        vertical-align: top;\n",
       "    }\n",
       "\n",
       "    .dataframe thead th {\n",
       "        text-align: right;\n",
       "    }\n",
       "</style>\n",
       "<table border=\"1\" class=\"dataframe\">\n",
       "  <thead>\n",
       "    <tr style=\"text-align: right;\">\n",
       "      <th></th>\n",
       "      <th>time</th>\n",
       "      <th>open</th>\n",
       "    </tr>\n",
       "  </thead>\n",
       "  <tbody>\n",
       "    <tr>\n",
       "      <th>20319</th>\n",
       "      <td>2022-09-05 03:00:03.025531+00</td>\n",
       "      <td>19853.83</td>\n",
       "    </tr>\n",
       "    <tr>\n",
       "      <th>20320</th>\n",
       "      <td>2022-09-05 03:15:02.425636+00</td>\n",
       "      <td>19826.88</td>\n",
       "    </tr>\n",
       "    <tr>\n",
       "      <th>20321</th>\n",
       "      <td>2022-09-05 03:30:04.17334+00</td>\n",
       "      <td>19870.36</td>\n",
       "    </tr>\n",
       "    <tr>\n",
       "      <th>20322</th>\n",
       "      <td>2022-09-05 03:45:04.11144+00</td>\n",
       "      <td>19890.91</td>\n",
       "    </tr>\n",
       "    <tr>\n",
       "      <th>20323</th>\n",
       "      <td>2022-09-05 04:00:02.486639+00</td>\n",
       "      <td>19889.51</td>\n",
       "    </tr>\n",
       "  </tbody>\n",
       "</table>\n",
       "</div>"
      ],
      "text/plain": [
       "                                time      open\n",
       "20319  2022-09-05 03:00:03.025531+00  19853.83\n",
       "20320  2022-09-05 03:15:02.425636+00  19826.88\n",
       "20321   2022-09-05 03:30:04.17334+00  19870.36\n",
       "20322   2022-09-05 03:45:04.11144+00  19890.91\n",
       "20323  2022-09-05 04:00:02.486639+00  19889.51"
      ]
     },
     "execution_count": 23,
     "metadata": {},
     "output_type": "execute_result"
    }
   ],
   "source": [
    "data.tail()"
   ]
  },
  {
   "cell_type": "code",
   "execution_count": 24,
   "id": "54fe667f",
   "metadata": {},
   "outputs": [],
   "source": [
    "@timer_decorator\n",
    "def create_columnwise_features(df,time_step):\n",
    "    df['columnwise_min'] = df.iloc[:,:time_step].min(axis=1)\n",
    "    df['columnwise_max'] = df.iloc[:,:time_step].max(axis=1)\n",
    "    df['columnwise_median'] = df.iloc[:,:time_step].median(axis=1)\n",
    "    return df"
   ]
  },
  {
   "cell_type": "code",
   "execution_count": 25,
   "id": "9163ad85",
   "metadata": {},
   "outputs": [],
   "source": [
    "#data = create_columnwise_features(data,time_step)"
   ]
  },
  {
   "cell_type": "code",
   "execution_count": 26,
   "id": "45883346",
   "metadata": {},
   "outputs": [],
   "source": [
    "def scale_btw_neg1_and_pos1(df,time_step):\n",
    "    df[[f'T{x}' for x in range (1,time_step+1,1) ]] = \\\n",
    "    np.array([ np.interp( x, ( np.array(x).min(),np.array(x).max() ), (-1,1) )\\\n",
    "              for x in df[[f'T{x}' for x in range (1,time_step+1,1) ]].values.tolist() ])\n",
    "    return df"
   ]
  },
  {
   "cell_type": "code",
   "execution_count": 27,
   "id": "c2f05223",
   "metadata": {},
   "outputs": [],
   "source": [
    "def scale_btw_0_and_1(df,time_step):\n",
    "    for i in range(1,time_step+1,1):\n",
    "        df['T{}'.format(i)] = (df['T{}'.format(i)] - df['columnwise_min']) / (df['columnwise_max'] - df['columnwise_min'])\n",
    "    return df"
   ]
  },
  {
   "cell_type": "code",
   "execution_count": 28,
   "id": "33881c68",
   "metadata": {},
   "outputs": [],
   "source": [
    "#data = scale_btw_0_and_1(data,time_step)"
   ]
  },
  {
   "cell_type": "code",
   "execution_count": 29,
   "id": "e180b27e",
   "metadata": {},
   "outputs": [
    {
     "data": {
      "text/html": [
       "<div>\n",
       "<style scoped>\n",
       "    .dataframe tbody tr th:only-of-type {\n",
       "        vertical-align: middle;\n",
       "    }\n",
       "\n",
       "    .dataframe tbody tr th {\n",
       "        vertical-align: top;\n",
       "    }\n",
       "\n",
       "    .dataframe thead th {\n",
       "        text-align: right;\n",
       "    }\n",
       "</style>\n",
       "<table border=\"1\" class=\"dataframe\">\n",
       "  <thead>\n",
       "    <tr style=\"text-align: right;\">\n",
       "      <th></th>\n",
       "      <th>time</th>\n",
       "      <th>open</th>\n",
       "    </tr>\n",
       "  </thead>\n",
       "  <tbody>\n",
       "    <tr>\n",
       "      <th>20319</th>\n",
       "      <td>2022-09-05 03:00:03.025531+00</td>\n",
       "      <td>19853.83</td>\n",
       "    </tr>\n",
       "    <tr>\n",
       "      <th>20320</th>\n",
       "      <td>2022-09-05 03:15:02.425636+00</td>\n",
       "      <td>19826.88</td>\n",
       "    </tr>\n",
       "    <tr>\n",
       "      <th>20321</th>\n",
       "      <td>2022-09-05 03:30:04.17334+00</td>\n",
       "      <td>19870.36</td>\n",
       "    </tr>\n",
       "    <tr>\n",
       "      <th>20322</th>\n",
       "      <td>2022-09-05 03:45:04.11144+00</td>\n",
       "      <td>19890.91</td>\n",
       "    </tr>\n",
       "    <tr>\n",
       "      <th>20323</th>\n",
       "      <td>2022-09-05 04:00:02.486639+00</td>\n",
       "      <td>19889.51</td>\n",
       "    </tr>\n",
       "  </tbody>\n",
       "</table>\n",
       "</div>"
      ],
      "text/plain": [
       "                                time      open\n",
       "20319  2022-09-05 03:00:03.025531+00  19853.83\n",
       "20320  2022-09-05 03:15:02.425636+00  19826.88\n",
       "20321   2022-09-05 03:30:04.17334+00  19870.36\n",
       "20322   2022-09-05 03:45:04.11144+00  19890.91\n",
       "20323  2022-09-05 04:00:02.486639+00  19889.51"
      ]
     },
     "execution_count": 29,
     "metadata": {},
     "output_type": "execute_result"
    }
   ],
   "source": [
    "data.tail()"
   ]
  },
  {
   "cell_type": "code",
   "execution_count": 30,
   "id": "748f8a03",
   "metadata": {},
   "outputs": [],
   "source": [
    "def create_input_via_shifting(df, time_step):\n",
    "    print(df.shape)\n",
    "    for i in range(1,time_step+1,1):\n",
    "        df['T{}'.format(time_step + 1 - i)] = df['categorical_target_change'].shift(i)\n",
    "    \n",
    "    df = df[time_step:].reset_index(drop=True)\n",
    "    print(df.shape)\n",
    "    return df"
   ]
  },
  {
   "cell_type": "code",
   "execution_count": 31,
   "id": "e7d2bd86",
   "metadata": {},
   "outputs": [],
   "source": [
    "#data = create_input_via_shifting(data, time_step)"
   ]
  },
  {
   "cell_type": "code",
   "execution_count": 32,
   "id": "8a4af61f",
   "metadata": {},
   "outputs": [
    {
     "data": {
      "text/html": [
       "<div>\n",
       "<style scoped>\n",
       "    .dataframe tbody tr th:only-of-type {\n",
       "        vertical-align: middle;\n",
       "    }\n",
       "\n",
       "    .dataframe tbody tr th {\n",
       "        vertical-align: top;\n",
       "    }\n",
       "\n",
       "    .dataframe thead th {\n",
       "        text-align: right;\n",
       "    }\n",
       "</style>\n",
       "<table border=\"1\" class=\"dataframe\">\n",
       "  <thead>\n",
       "    <tr style=\"text-align: right;\">\n",
       "      <th></th>\n",
       "      <th>time</th>\n",
       "      <th>open</th>\n",
       "    </tr>\n",
       "  </thead>\n",
       "  <tbody>\n",
       "    <tr>\n",
       "      <th>20319</th>\n",
       "      <td>2022-09-05 03:00:03.025531+00</td>\n",
       "      <td>19853.83</td>\n",
       "    </tr>\n",
       "    <tr>\n",
       "      <th>20320</th>\n",
       "      <td>2022-09-05 03:15:02.425636+00</td>\n",
       "      <td>19826.88</td>\n",
       "    </tr>\n",
       "    <tr>\n",
       "      <th>20321</th>\n",
       "      <td>2022-09-05 03:30:04.17334+00</td>\n",
       "      <td>19870.36</td>\n",
       "    </tr>\n",
       "    <tr>\n",
       "      <th>20322</th>\n",
       "      <td>2022-09-05 03:45:04.11144+00</td>\n",
       "      <td>19890.91</td>\n",
       "    </tr>\n",
       "    <tr>\n",
       "      <th>20323</th>\n",
       "      <td>2022-09-05 04:00:02.486639+00</td>\n",
       "      <td>19889.51</td>\n",
       "    </tr>\n",
       "  </tbody>\n",
       "</table>\n",
       "</div>"
      ],
      "text/plain": [
       "                                time      open\n",
       "20319  2022-09-05 03:00:03.025531+00  19853.83\n",
       "20320  2022-09-05 03:15:02.425636+00  19826.88\n",
       "20321   2022-09-05 03:30:04.17334+00  19870.36\n",
       "20322   2022-09-05 03:45:04.11144+00  19890.91\n",
       "20323  2022-09-05 04:00:02.486639+00  19889.51"
      ]
     },
     "execution_count": 32,
     "metadata": {},
     "output_type": "execute_result"
    }
   ],
   "source": [
    "data.tail()"
   ]
  },
  {
   "cell_type": "code",
   "execution_count": 33,
   "id": "59a51bc0",
   "metadata": {},
   "outputs": [],
   "source": [
    "#mydata['categorical_target'].value_counts(normalize=True)"
   ]
  },
  {
   "cell_type": "code",
   "execution_count": 34,
   "id": "9ceb15ef",
   "metadata": {},
   "outputs": [
    {
     "data": {
      "text/html": [
       "<div>\n",
       "<style scoped>\n",
       "    .dataframe tbody tr th:only-of-type {\n",
       "        vertical-align: middle;\n",
       "    }\n",
       "\n",
       "    .dataframe tbody tr th {\n",
       "        vertical-align: top;\n",
       "    }\n",
       "\n",
       "    .dataframe thead th {\n",
       "        text-align: right;\n",
       "    }\n",
       "</style>\n",
       "<table border=\"1\" class=\"dataframe\">\n",
       "  <thead>\n",
       "    <tr style=\"text-align: right;\">\n",
       "      <th></th>\n",
       "      <th>time</th>\n",
       "      <th>open</th>\n",
       "    </tr>\n",
       "  </thead>\n",
       "  <tbody>\n",
       "    <tr>\n",
       "      <th>0</th>\n",
       "      <td>2022-02-05 11:15:00+00</td>\n",
       "      <td>41547.36</td>\n",
       "    </tr>\n",
       "    <tr>\n",
       "      <th>1</th>\n",
       "      <td>2022-02-05 11:30:00+00</td>\n",
       "      <td>41506.98</td>\n",
       "    </tr>\n",
       "    <tr>\n",
       "      <th>2</th>\n",
       "      <td>2022-02-05 11:45:00+00</td>\n",
       "      <td>41454.42</td>\n",
       "    </tr>\n",
       "    <tr>\n",
       "      <th>3</th>\n",
       "      <td>2022-02-05 12:00:00+00</td>\n",
       "      <td>41507.00</td>\n",
       "    </tr>\n",
       "    <tr>\n",
       "      <th>4</th>\n",
       "      <td>2022-02-05 12:15:00+00</td>\n",
       "      <td>41564.07</td>\n",
       "    </tr>\n",
       "  </tbody>\n",
       "</table>\n",
       "</div>"
      ],
      "text/plain": [
       "                     time      open\n",
       "0  2022-02-05 11:15:00+00  41547.36\n",
       "1  2022-02-05 11:30:00+00  41506.98\n",
       "2  2022-02-05 11:45:00+00  41454.42\n",
       "3  2022-02-05 12:00:00+00  41507.00\n",
       "4  2022-02-05 12:15:00+00  41564.07"
      ]
     },
     "execution_count": 34,
     "metadata": {},
     "output_type": "execute_result"
    }
   ],
   "source": [
    "data.head()"
   ]
  },
  {
   "cell_type": "code",
   "execution_count": 35,
   "id": "26bd4f40",
   "metadata": {},
   "outputs": [
    {
     "name": "stdout",
     "output_type": "stream",
     "text": [
      "data elapsed = 0:00:00.018565\n",
      "data elapsed = 0:00:00.003900\n"
     ]
    },
    {
     "name": "stderr",
     "output_type": "stream",
     "text": [
      "100%|██████████████████████████████████| 1151/1151 [00:00<00:00, 1139670.42it/s]"
     ]
    },
    {
     "name": "stdout",
     "output_type": "stream",
     "text": [
      "Training data size =  (1151, 121)\n",
      "data elapsed = 0:00:00.005772\n",
      "data elapsed = 0:00:00.002139\n",
      "(1151, 124)\n",
      "(1031, 124)\n"
     ]
    },
    {
     "name": "stderr",
     "output_type": "stream",
     "text": [
      "\n"
     ]
    }
   ],
   "source": [
    "data = (data.pipe(copy_data)\n",
    "     .pipe(create_date_columns)\n",
    "     .pipe(filter_data,drop_years = [2012],hour_to_keep = 4,minute_to_keep = 0)\n",
    "     .pipe(create_train_data,time_step,next_period)\n",
    "     .pipe(create_label)\n",
    "     .pipe(create_input_via_shifting,time_step)\n",
    ")"
   ]
  },
  {
   "cell_type": "code",
   "execution_count": 46,
   "id": "a4f8462e",
   "metadata": {},
   "outputs": [
    {
     "data": {
      "text/plain": [
       "-1.5043444430034936"
      ]
     },
     "execution_count": 46,
     "metadata": {},
     "output_type": "execute_result"
    }
   ],
   "source": [
    "data[(data['categorical_target_change'] == 1) & (data['percentile_target'] < -change_ratio )]['percentile_target'].max()"
   ]
  },
  {
   "cell_type": "markdown",
   "id": "ba8dd7fa",
   "metadata": {},
   "source": [
    "# Create Train, Test, Valid"
   ]
  },
  {
   "cell_type": "code",
   "execution_count": 47,
   "id": "5f7be9d3",
   "metadata": {},
   "outputs": [
    {
     "data": {
      "text/plain": [
       "0    0.793404\n",
       "1    0.206596\n",
       "Name: categorical_target_change, dtype: float64"
      ]
     },
     "execution_count": 47,
     "metadata": {},
     "output_type": "execute_result"
    }
   ],
   "source": [
    "data['categorical_target_change'].value_counts(normalize=True)"
   ]
  },
  {
   "cell_type": "code",
   "execution_count": 48,
   "id": "76489350",
   "metadata": {},
   "outputs": [],
   "source": [
    "def create_train_valid_test(df,time_step,train_ratio=0.0,valid_ratio=0.0):\n",
    "    train_border = train_ratio\n",
    "    valid_border = train_border + valid_ratio\n",
    "    \n",
    "    X_train = df[['T{}'.format(t) for t in range(1,time_step +1,1) ]][:int(len(df)*train_border)].values\n",
    "    X_val = df[['T{}'.format(t) for t in range(1,time_step + 1,1) ]][int(len(df)*train_border):int(len(df)*valid_border)].values\n",
    "    X_test = df[['T{}'.format(t) for t in range(1,time_step + 1,1) ]][int(len(df)*valid_border):].values\n",
    "    \n",
    "    y_train = df['categorical_target_change'][:int(len(df)*train_border)]\n",
    "    y_val = df['categorical_target_change'][int(len(df)*train_border):int(len(df)*valid_border)]\n",
    "    y_test = df['categorical_target_change'][int(len(df)*valid_border):]\n",
    "    \n",
    "    print(f\"Train size = {len(X_train)}; Valid size = {len(X_val)}; Test size = {len(X_test)}\")\n",
    "    \n",
    "    return X_train, X_val, X_test, y_train, y_val, y_test\n",
    "    "
   ]
  },
  {
   "cell_type": "code",
   "execution_count": 49,
   "id": "176ceff0",
   "metadata": {},
   "outputs": [
    {
     "name": "stdout",
     "output_type": "stream",
     "text": [
      "Train size = 0; Valid size = 0; Test size = 1031\n"
     ]
    }
   ],
   "source": [
    "X_train, X_val , X_test, y_train, y_val, y_test = create_train_valid_test(data, time_step)"
   ]
  },
  {
   "cell_type": "markdown",
   "id": "8d0f361b",
   "metadata": {},
   "source": [
    "# Create weights of classes inproportional to percentages"
   ]
  },
  {
   "cell_type": "code",
   "execution_count": 50,
   "id": "7793181b",
   "metadata": {},
   "outputs": [],
   "source": [
    "def create_weights(series):\n",
    "    print(\"Class Distributions are \")\n",
    "    print(series.value_counts(normalize=True))\n",
    "    weight_dict= {x[0]: 1/x[1]  for x in series.value_counts(normalize=True).to_dict().items()}\n",
    "    return weight_dict"
   ]
  },
  {
   "cell_type": "code",
   "execution_count": 51,
   "id": "cd67eb0e",
   "metadata": {},
   "outputs": [
    {
     "name": "stdout",
     "output_type": "stream",
     "text": [
      "Class Distributions are \n",
      "Series([], Name: categorical_target_change, dtype: float64)\n"
     ]
    }
   ],
   "source": [
    "weight_dict = create_weights(y_train)"
   ]
  },
  {
   "cell_type": "markdown",
   "id": "1420e547",
   "metadata": {},
   "source": [
    "# Oversampling data"
   ]
  },
  {
   "cell_type": "code",
   "execution_count": 52,
   "id": "45f2b5a8",
   "metadata": {},
   "outputs": [],
   "source": [
    "from imblearn.over_sampling import SMOTE\n",
    "def oversample_train(X,y):\n",
    "    X,y = shuffle(X,y,random_state=60)\n",
    "    smote = SMOTE(random_state=51)\n",
    "    X,y = smote.fit_resample(X,y)\n",
    "    print(X.shape,y.shape)\n",
    "    return X,y"
   ]
  },
  {
   "cell_type": "code",
   "execution_count": 53,
   "id": "6c3a3ae6",
   "metadata": {},
   "outputs": [],
   "source": [
    "#X_train, y_train = oversample_train(X_train, y_train)"
   ]
  },
  {
   "cell_type": "markdown",
   "id": "a55a9bb9",
   "metadata": {},
   "source": [
    "# Dummifacation of Target"
   ]
  },
  {
   "cell_type": "code",
   "execution_count": 54,
   "id": "af99f00f",
   "metadata": {},
   "outputs": [],
   "source": [
    "def dummify_y_columns(training_y,valid_y,test_y):\n",
    "    training_y = pd.get_dummies(training_y)\n",
    "    valid_y = pd.get_dummies(valid_y)\n",
    "    test_y = pd.get_dummies(test_y)\n",
    "    print(f\"Shapes after dummification in train, valid, test order = [{training_y.shape,valid_y.shape, test_y.shape}]\")\n",
    "    return training_y, valid_y, test_y"
   ]
  },
  {
   "cell_type": "code",
   "execution_count": 55,
   "id": "89c56e10",
   "metadata": {},
   "outputs": [],
   "source": [
    "# y_train, y_val, y_test = dummify_y_columns(y_train, y_val, y_test)"
   ]
  },
  {
   "cell_type": "markdown",
   "id": "c29a9e31",
   "metadata": {},
   "source": [
    "# Resape Input for LSTM's"
   ]
  },
  {
   "cell_type": "code",
   "execution_count": 56,
   "id": "766008ad",
   "metadata": {},
   "outputs": [],
   "source": [
    "def reshape_input(training_X, valid_X, test_X, n_features):\n",
    "    training_X = training_X.reshape((training_X.shape[0], training_X.shape[1], n_features))\n",
    "    valid_X = valid_X.reshape((valid_X.shape[0], valid_X.shape[1], n_features))\n",
    "    test_X = test_X.reshape((test_X.shape[0], test_X.shape[1], n_features))\n",
    "    print(f\"Shapes after reshaping are in order [{training_X.shape},{valid_X.shape}, {test_X.shape}]\")\n",
    "    return training_X, valid_X, test_X"
   ]
  },
  {
   "cell_type": "code",
   "execution_count": 57,
   "id": "422d691d",
   "metadata": {},
   "outputs": [
    {
     "name": "stdout",
     "output_type": "stream",
     "text": [
      "Shapes after reshaping are in order [(0, 120, 1),(0, 120, 1), (1031, 120, 1)]\n"
     ]
    }
   ],
   "source": [
    "X_train, X_val, X_test = reshape_input(X_train, X_val, X_test, n_features)"
   ]
  },
  {
   "cell_type": "code",
   "execution_count": 58,
   "id": "2b2f8711",
   "metadata": {},
   "outputs": [],
   "source": [
    "from tensorflow.keras.models import load_model"
   ]
  },
  {
   "cell_type": "code",
   "execution_count": 59,
   "id": "108e30a4",
   "metadata": {},
   "outputs": [
    {
     "name": "stderr",
     "output_type": "stream",
     "text": [
      "2022-09-09 18:32:48.025328: I tensorflow/stream_executor/cuda/cuda_gpu_executor.cc:936] successful NUMA node read from SysFS had negative value (-1), but there must be at least one NUMA node, so returning NUMA node zero\n",
      "2022-09-09 18:32:48.057753: I tensorflow/stream_executor/cuda/cuda_gpu_executor.cc:936] successful NUMA node read from SysFS had negative value (-1), but there must be at least one NUMA node, so returning NUMA node zero\n",
      "2022-09-09 18:32:48.057917: I tensorflow/stream_executor/cuda/cuda_gpu_executor.cc:936] successful NUMA node read from SysFS had negative value (-1), but there must be at least one NUMA node, so returning NUMA node zero\n",
      "2022-09-09 18:32:48.059002: I tensorflow/core/platform/cpu_feature_guard.cc:151] This TensorFlow binary is optimized with oneAPI Deep Neural Network Library (oneDNN) to use the following CPU instructions in performance-critical operations:  AVX2 FMA\n",
      "To enable them in other operations, rebuild TensorFlow with the appropriate compiler flags.\n",
      "2022-09-09 18:32:48.059461: I tensorflow/stream_executor/cuda/cuda_gpu_executor.cc:936] successful NUMA node read from SysFS had negative value (-1), but there must be at least one NUMA node, so returning NUMA node zero\n",
      "2022-09-09 18:32:48.059609: I tensorflow/stream_executor/cuda/cuda_gpu_executor.cc:936] successful NUMA node read from SysFS had negative value (-1), but there must be at least one NUMA node, so returning NUMA node zero\n",
      "2022-09-09 18:32:48.059728: I tensorflow/stream_executor/cuda/cuda_gpu_executor.cc:936] successful NUMA node read from SysFS had negative value (-1), but there must be at least one NUMA node, so returning NUMA node zero\n",
      "2022-09-09 18:32:48.466714: I tensorflow/stream_executor/cuda/cuda_gpu_executor.cc:936] successful NUMA node read from SysFS had negative value (-1), but there must be at least one NUMA node, so returning NUMA node zero\n",
      "2022-09-09 18:32:48.466894: I tensorflow/stream_executor/cuda/cuda_gpu_executor.cc:936] successful NUMA node read from SysFS had negative value (-1), but there must be at least one NUMA node, so returning NUMA node zero\n",
      "2022-09-09 18:32:48.467018: I tensorflow/stream_executor/cuda/cuda_gpu_executor.cc:936] successful NUMA node read from SysFS had negative value (-1), but there must be at least one NUMA node, so returning NUMA node zero\n",
      "2022-09-09 18:32:48.467099: W tensorflow/core/common_runtime/gpu/gpu_bfc_allocator.cc:39] Overriding allow_growth setting because the TF_FORCE_GPU_ALLOW_GROWTH environment variable is set. Original config value was 0.\n",
      "2022-09-09 18:32:48.467127: I tensorflow/core/common_runtime/gpu/gpu_device.cc:1525] Created device /job:localhost/replica:0/task:0/device:GPU:0 with 2414 MB memory:  -> device: 0, name: NVIDIA GeForce GTX 1050, pci bus id: 0000:01:00.0, compute capability: 6.1\n"
     ]
    }
   ],
   "source": [
    "# Load the model\n",
    "model = load_model('model.h5')"
   ]
  },
  {
   "cell_type": "markdown",
   "id": "e2182ccb",
   "metadata": {},
   "source": [
    "# Test"
   ]
  },
  {
   "cell_type": "code",
   "execution_count": 60,
   "id": "ce2de28b",
   "metadata": {},
   "outputs": [
    {
     "name": "stderr",
     "output_type": "stream",
     "text": [
      "2022-09-09 18:32:50.142796: I tensorflow/stream_executor/cuda/cuda_dnn.cc:368] Loaded cuDNN version 8400\n"
     ]
    }
   ],
   "source": [
    "y_test_predicted = model.predict(X_test)"
   ]
  },
  {
   "cell_type": "code",
   "execution_count": 61,
   "id": "095873b3",
   "metadata": {},
   "outputs": [
    {
     "data": {
      "text/plain": [
       "array([[0.3240849 ],\n",
       "       [0.27318838],\n",
       "       [0.2340537 ],\n",
       "       ...,\n",
       "       [0.07946251],\n",
       "       [0.07728413],\n",
       "       [0.07527353]], dtype=float32)"
      ]
     },
     "execution_count": 61,
     "metadata": {},
     "output_type": "execute_result"
    }
   ],
   "source": [
    "y_test_predicted"
   ]
  },
  {
   "cell_type": "code",
   "execution_count": 62,
   "id": "48fb127d",
   "metadata": {},
   "outputs": [],
   "source": [
    "def plot_prediction_and_auc(predictions,true_values):\n",
    "    plt.hist(predictions,bins=50, label = \"Class 0\")\n",
    "    plt.legend()\n",
    "    plt.show()\n",
    "    \n",
    "    print(\"AUC = {}\".format(roc_auc_score(true_values,predictions)))\n",
    "    \n",
    "    fpr, tpr, _ = roc_curve(true_values,  predictions)\n",
    "    auc = roc_auc_score(true_values, predictions)\n",
    "    plt.plot(fpr,tpr,label=\"train, auc=\"+str(auc))\n",
    "    plt.plot([0,1],[0,1])\n",
    "    plt.legend(loc=4)\n",
    "    plt.show()"
   ]
  },
  {
   "cell_type": "code",
   "execution_count": 63,
   "id": "271c8d49",
   "metadata": {},
   "outputs": [
    {
     "data": {
      "image/png": "[encoded data removed]",
      "text/plain": [
       "<Figure size 432x288 with 1 Axes>"
      ]
     },
     "metadata": {
      "needs_background": "light"
     },
     "output_type": "display_data"
    },
    {
     "name": "stdout",
     "output_type": "stream",
     "text": [
      "AUC = 0.6345317217075886\n"
     ]
    },
    {
     "data": {
      "image/png": "[encoded data removed]",
      "text/plain": [
       "<Figure size 432x288 with 1 Axes>"
      ]
     },
     "metadata": {
      "needs_background": "light"
     },
     "output_type": "display_data"
    }
   ],
   "source": [
    "plot_prediction_and_auc(y_test_predicted[:,0],y_test)"
   ]
  },
  {
   "cell_type": "code",
   "execution_count": 64,
   "id": "73d3c253",
   "metadata": {},
   "outputs": [],
   "source": [
    "def plot_precision_recall_f1(preds,truth):\n",
    "    f1_list = []\n",
    "    precision_list = []\n",
    "    recall_list = []\n",
    "    for i in np.arange(0.01,1.0,0.01):\n",
    "        preds_converted = (preds >= i)*1\n",
    "        \n",
    "        f1_list.append( f1_score(truth,preds_converted) )\n",
    "        precision_list.append( precision_score(truth,preds_converted,zero_division=0) )\n",
    "        recall_list.append( recall_score(truth,preds_converted) )\n",
    "    \n",
    "    stats_data = pd.concat( [pd.Series(f1_list,name='f1'),pd.Series(precision_list,name='precision'),pd.Series(recall_list,name='recall')] , axis=1 )\n",
    "    stats_data.index = np.arange(0.01,1.0,0.01)\n",
    "    \n",
    "    plt.plot(stats_data['f1'],label='f1')\n",
    "    plt.plot(stats_data['precision'],label='precision')\n",
    "    plt.plot(stats_data['recall'],label='recall')\n",
    "    plt.xlabel('threshold')\n",
    "    plt.ylabel('score')\n",
    "    plt.legend()\n",
    "    plt.show()"
   ]
  },
  {
   "cell_type": "code",
   "execution_count": 65,
   "id": "f43da5dd",
   "metadata": {},
   "outputs": [
    {
     "data": {
      "image/png": "[encoded data removed]",
      "text/plain": [
       "<Figure size 432x288 with 1 Axes>"
      ]
     },
     "metadata": {
      "needs_background": "light"
     },
     "output_type": "display_data"
    }
   ],
   "source": [
    "plot_precision_recall_f1(y_test_predicted,y_test)"
   ]
  },
  {
   "cell_type": "code",
   "execution_count": 66,
   "id": "8330604e",
   "metadata": {},
   "outputs": [
    {
     "data": {
      "image/png": "[encoded data removed]",
      "text/plain": [
       "<Figure size 432x288 with 2 Axes>"
      ]
     },
     "metadata": {},
     "output_type": "display_data"
    }
   ],
   "source": [
    "y_test_predicted_class = (y_test_predicted > 0.35) * 1\n",
    "\n",
    "val_test = confusion_matrix(y_test,y_test_predicted_class)\n",
    "\n",
    "df_cm = pd.DataFrame(val_test, range(2), range(2))\n",
    "# plt.figure(figsize=(10,7))\n",
    "sns.set(font_scale=1.4) # for label size\n",
    "sns.heatmap(df_cm, annot=True, annot_kws={\"size\": 16},fmt='g') # font size\n",
    "plt.xlabel('pred')\n",
    "plt.ylabel('truth')\n",
    "plt.show()"
   ]
  },
  {
   "cell_type": "code",
   "execution_count": 67,
   "id": "02be6c8c",
   "metadata": {},
   "outputs": [
    {
     "data": {
      "text/plain": [
       "True"
      ]
     },
     "execution_count": 67,
     "metadata": {},
     "output_type": "execute_result"
    }
   ],
   "source": [
    "data.shape[0] == X_train.shape[0] + X_val.shape[0] + X_test.shape[0]"
   ]
  },
  {
   "cell_type": "code",
   "execution_count": null,
   "id": "f6f57713",
   "metadata": {},
   "outputs": [],
   "source": []
  },
  {
   "cell_type": "code",
   "execution_count": null,
   "id": "fc6b8e51",
   "metadata": {},
   "outputs": [],
   "source": []
  }
 ],
 "metadata": {
  "kernelspec": {
   "display_name": "Python 3 (ipykernel)",
   "language": "python",
   "name": "python3"
  },
  "language_info": {
   "codemirror_mode": {
    "name": "ipython",
    "version": 3
   },
   "file_extension": ".py",
   "mimetype": "text/x-python",
   "name": "python",
   "nbconvert_exporter": "python",
   "pygments_lexer": "ipython3",
   "version": "3.8.10"
  }
 },
 "nbformat": 4,
 "nbformat_minor": 5
}
